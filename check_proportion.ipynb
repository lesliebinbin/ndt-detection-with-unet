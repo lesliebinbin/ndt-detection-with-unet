{
 "cells": [
  {
   "cell_type": "code",
   "execution_count": 38,
   "id": "150ed9c9",
   "metadata": {},
   "outputs": [],
   "source": [
    "from pathlib import Path"
   ]
  },
  {
   "cell_type": "code",
   "execution_count": 39,
   "id": "01b6fe18",
   "metadata": {},
   "outputs": [],
   "source": [
    "from utils import extract_coords"
   ]
  },
  {
   "cell_type": "code",
   "execution_count": 40,
   "id": "075f993f",
   "metadata": {},
   "outputs": [],
   "source": [
    "folder = Path(\"dcm_data\")"
   ]
  },
  {
   "cell_type": "code",
   "execution_count": 42,
   "id": "9c3de150",
   "metadata": {},
   "outputs": [],
   "source": [
    "folder.mkdir(exist_ok=True)"
   ]
  },
  {
   "cell_type": "code",
   "execution_count": 45,
   "id": "6be6c032",
   "metadata": {},
   "outputs": [],
   "source": [
    "import shutil\n",
    "src_folder = Path(\"final_folder\")\n",
    "for file in src_folder.glob(\"**/*marked.jpg\"):\n",
    "    img = Image.open(file)\n",
    "    width, height = img.width, img.height\n",
    "    lines = []\n",
    "    for min_x, min_y, max_x, max_y in extract_coords(img):\n",
    "        x_center = (min_x + max_x) / 2\n",
    "        y_center = (min_y + max_y) / 2\n",
    "        box_width = max_x - min_x\n",
    "        box_height = max_y - min_y\n",
    "\n",
    "        x_center_norm = x_center / width\n",
    "        y_center_norm = y_center / height\n",
    "        width_norm = box_width / width\n",
    "        height_norm = box_height / height\n",
    "\n",
    "        # For a single class (e.g., class_id = 0)\n",
    "        yolo_line = f\"0 {x_center_norm} {y_center_norm} {width_norm} {height_norm}\"\n",
    "        lines.append(yolo_line)\n",
    "    yolo_txt_file = folder / file.name.replace(\"_marked.jpg\", \".txt\")\n",
    "    yolo_img_file = folder / file.name.replace(\"_marked.jpg\", \".jpg\")\n",
    "    src_img_file = src_folder / file.name.replace(\"_marked.jpg\", \"_origin.jpg\")\n",
    "    yolo_txt_file.write_text(\"\\n\".join(lines))\n",
    "    shutil.copy(src_img_file, yolo_img_file)\n",
    "\n"
   ]
  },
  {
   "cell_type": "code",
   "execution_count": null,
   "id": "28e9522e",
   "metadata": {},
   "outputs": [],
   "source": []
  },
  {
   "cell_type": "code",
   "execution_count": null,
   "id": "3ffb65b6",
   "metadata": {},
   "outputs": [],
   "source": []
  },
  {
   "cell_type": "code",
   "execution_count": null,
   "id": "636dcd2b",
   "metadata": {},
   "outputs": [],
   "source": []
  }
 ],
 "metadata": {
  "kernelspec": {
   "display_name": "dh-computer-vision (3.11.11)",
   "language": "python",
   "name": "python3"
  },
  "language_info": {
   "codemirror_mode": {
    "name": "ipython",
    "version": 3
   },
   "file_extension": ".py",
   "mimetype": "text/x-python",
   "name": "python",
   "nbconvert_exporter": "python",
   "pygments_lexer": "ipython3",
   "version": "3.11.11"
  }
 },
 "nbformat": 4,
 "nbformat_minor": 5
}
