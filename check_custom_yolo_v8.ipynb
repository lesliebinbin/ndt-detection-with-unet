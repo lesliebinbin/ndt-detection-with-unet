{
 "cells": [
  {
   "cell_type": "code",
   "execution_count": null,
   "id": "f0e933ee",
   "metadata": {},
   "outputs": [],
   "source": [
    "import os\n",
    "os.environ['KERAS_BACKEND'] = 'tensorflow'\n",
    "from layers import YOLOV8Backbone"
   ]
  },
  {
   "cell_type": "code",
   "execution_count": null,
   "id": "a9bf2ed2",
   "metadata": {},
   "outputs": [],
   "source": [
    "model = YOLOV8Backbone()"
   ]
  },
  {
   "cell_type": "code",
   "execution_count": null,
   "id": "6c44c3c5",
   "metadata": {},
   "outputs": [],
   "source": [
    "import numpy as np\n",
    "dummy_input = np.zeros((1, 240, 240, 3), dtype=np.float32)\n",
    "# result = model(dummy_input)  # Build the model"
   ]
  },
  {
   "cell_type": "code",
   "execution_count": null,
   "id": "ab67665f",
   "metadata": {},
   "outputs": [],
   "source": [
    "model.predict(dummy_input)"
   ]
  },
  {
   "cell_type": "code",
   "execution_count": null,
   "id": "3ed244df",
   "metadata": {},
   "outputs": [],
   "source": []
  }
 ],
 "metadata": {
  "kernelspec": {
   "display_name": "dh-computer-vision (3.11.11)",
   "language": "python",
   "name": "python3"
  },
  "language_info": {
   "codemirror_mode": {
    "name": "ipython",
    "version": 3
   },
   "file_extension": ".py",
   "mimetype": "text/x-python",
   "name": "python",
   "nbconvert_exporter": "python",
   "pygments_lexer": "ipython3",
   "version": "3.11.11"
  }
 },
 "nbformat": 4,
 "nbformat_minor": 5
}
