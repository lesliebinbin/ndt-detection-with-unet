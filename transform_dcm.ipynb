{
 "cells": [
  {
   "cell_type": "code",
   "execution_count": null,
   "id": "76eac747",
   "metadata": {},
   "outputs": [],
   "source": [
    "from pathlib import Path"
   ]
  },
  {
   "cell_type": "code",
   "execution_count": null,
   "id": "c7e5c959",
   "metadata": {},
   "outputs": [],
   "source": [
    "src_folder = Path(\"dcm_data\")\n",
    "files = [file for file in src_folder.rglob(\"**/*.dcm\")]\n",
    "files.extend([file for file in src_folder.rglob(\"**/*.DCM\")])"
   ]
  },
  {
   "cell_type": "code",
   "execution_count": null,
   "id": "a4db6da8",
   "metadata": {},
   "outputs": [],
   "source": [
    "len(files)"
   ]
  },
  {
   "cell_type": "code",
   "execution_count": null,
   "id": "9bb17a3c",
   "metadata": {},
   "outputs": [],
   "source": [
    "from pydicom import dcmread\n",
    "from PIL import Image, ImageOps\n",
    "import numpy as np\n",
    "\n",
    "def center_pad_to_square(dcm_path: Path, fill_color=0) -> Image.Image:\n",
    "    \"\"\"\n",
    "    Loads a DICOM file and returns a center-padded square PIL image.\n",
    "    \n",
    "    Parameters:\n",
    "    - dcm_path: Path to the DICOM file\n",
    "    - fill_color: Padding color (default is 0 for black)\n",
    "    \n",
    "    Returns:\n",
    "    - PIL.Image.Image object (square, grayscale)\n",
    "    \"\"\"\n",
    "    # Load DICOM and extract pixel array\n",
    "    ds = dcmread(dcm_path)\n",
    "    pixel_array = ds.pixel_array\n",
    "\n",
    "    # Normalize to 0–255\n",
    "    img = (pixel_array - np.min(pixel_array)) / (np.max(pixel_array) - np.min(pixel_array)) * 255\n",
    "    img = img.astype(np.uint8)\n",
    "\n",
    "    # Convert to PIL image\n",
    "    pil_img = Image.fromarray(img)\n",
    "\n",
    "    # Get original dimensions\n",
    "    origin_width, origin_height = pil_img.size\n",
    "    if origin_width < origin_height:\n",
    "        pil_img = pil_img.transpose(Image.Transpose.ROTATE_90)\n",
    "    width, height = pil_img.size\n",
    "    max_side = width\n",
    "\n",
    "    # Calculate padding\n",
    "    pad_left = (max_side - width) // 2\n",
    "    pad_right = max_side - width - pad_left\n",
    "    pad_top = (max_side - height) // 2\n",
    "    pad_bottom = max_side - height - pad_top\n",
    "\n",
    "    # Apply center padding\n",
    "    padded_img = ImageOps.expand(pil_img, border=(pad_left, pad_top, pad_right, pad_bottom), fill=fill_color)\n",
    "    return padded_img\n",
    " "
   ]
  },
  {
   "cell_type": "code",
   "execution_count": 5,
   "id": "31aae727",
   "metadata": {},
   "outputs": [],
   "source": [
    "for file in files:\n",
    "    img = center_pad_to_square(file)\n",
    "    img = img.resize((512, 512))\n",
    "    tgt_file = file.with_suffix(\".jpg\")\n",
    "    img.save(tgt_file)"
   ]
  },
  {
   "cell_type": "code",
   "execution_count": null,
   "id": "6f333361",
   "metadata": {},
   "outputs": [],
   "source": []
  },
  {
   "cell_type": "code",
   "execution_count": 6,
   "id": "8a5e6033",
   "metadata": {},
   "outputs": [],
   "source": [
    "labels = {\n",
    "    \"圆形\": \"circle\",\n",
    "    \"未熔合\": \"lack_of_fusion\",\n",
    "    \"未焊透\": \"lack_of_penetration\",\n",
    "    \"条形\": \"line\",\n",
    "    \"内凹\": \"pit\",\n",
    "    \"咬边\": \"undercut\",\n",
    "    \"合格\": \"valid\",\n",
    "}"
   ]
  },
  {
   "cell_type": "code",
   "execution_count": 7,
   "id": "a23ca2eb",
   "metadata": {},
   "outputs": [],
   "source": [
    "target_folder = Path(\"dataset-resized\")\n",
    "target_folder.mkdir(exist_ok=True, parents=True)"
   ]
  },
  {
   "cell_type": "code",
   "execution_count": 11,
   "id": "86d50967",
   "metadata": {},
   "outputs": [],
   "source": [
    "for file in src_folder.rglob(\"**/*.jpg\"):\n",
    "    abs_path = str(file.absolute())\n",
    "    for k in labels.keys():\n",
    "        if k in abs_path:\n",
    "            tgt_path = target_folder / labels[k] / file.name\n",
    "            tgt_path.parent.mkdir(exist_ok=True, parents=True)\n",
    "            file.rename(tgt_path)"
   ]
  },
  {
   "cell_type": "code",
   "execution_count": 10,
   "id": "d677ba37",
   "metadata": {},
   "outputs": [],
   "source": [
    "img = center_pad_to_square(\"dcm_data/金陵/1701-060-9093-003-C399-66-1-2-未熔合-圆形缺陷.DCM\")"
   ]
  },
  {
   "cell_type": "code",
   "execution_count": null,
   "id": "8f68d673",
   "metadata": {},
   "outputs": [],
   "source": [
    "img.resize((512, 512))"
   ]
  },
  {
   "cell_type": "code",
   "execution_count": null,
   "id": "5bad1bdc",
   "metadata": {},
   "outputs": [],
   "source": []
  }
 ],
 "metadata": {
  "kernelspec": {
   "display_name": "dh-computer-vision (3.11.11)",
   "language": "python",
   "name": "python3"
  },
  "language_info": {
   "codemirror_mode": {
    "name": "ipython",
    "version": 3
   },
   "file_extension": ".py",
   "mimetype": "text/x-python",
   "name": "python",
   "nbconvert_exporter": "python",
   "pygments_lexer": "ipython3",
   "version": "3.11.11"
  }
 },
 "nbformat": 4,
 "nbformat_minor": 5
}
