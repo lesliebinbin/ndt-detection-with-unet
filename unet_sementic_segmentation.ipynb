{
 "cells": [
  {
   "cell_type": "code",
   "execution_count": null,
   "id": "02a3cd51",
   "metadata": {},
   "outputs": [
    {
     "name": "stderr",
     "output_type": "stream",
     "text": [
      "2025-09-24 09:19:10.732703: E external/local_xla/xla/stream_executor/cuda/cuda_fft.cc:467] Unable to register cuFFT factory: Attempting to register factory for plugin cuFFT when one has already been registered\n",
      "WARNING: All log messages before absl::InitializeLog() is called are written to STDERR\n",
      "E0000 00:00:1758676750.744295  732740 cuda_dnn.cc:8579] Unable to register cuDNN factory: Attempting to register factory for plugin cuDNN when one has already been registered\n",
      "E0000 00:00:1758676750.747852  732740 cuda_blas.cc:1407] Unable to register cuBLAS factory: Attempting to register factory for plugin cuBLAS when one has already been registered\n",
      "W0000 00:00:1758676750.757750  732740 computation_placer.cc:177] computation placer already registered. Please check linkage and avoid linking the same target more than once.\n",
      "W0000 00:00:1758676750.757761  732740 computation_placer.cc:177] computation placer already registered. Please check linkage and avoid linking the same target more than once.\n",
      "W0000 00:00:1758676750.757763  732740 computation_placer.cc:177] computation placer already registered. Please check linkage and avoid linking the same target more than once.\n",
      "W0000 00:00:1758676750.757764  732740 computation_placer.cc:177] computation placer already registered. Please check linkage and avoid linking the same target more than once.\n",
      "2025-09-24 09:19:12.722752: W tensorflow/core/common_runtime/gpu/gpu_bfc_allocator.cc:47] Overriding orig_value setting because the TF_FORCE_GPU_ALLOW_GROWTH environment variable is set. Original config value was 0.\n",
      "I0000 00:00:1758676752.723184  732740 gpu_device.cc:2019] Created device /job:localhost/replica:0/task:0/device:GPU:0 with 21746 MB memory:  -> device: 0, name: NVIDIA RTX A5000, pci bus id: 0000:01:00.0, compute capability: 8.6\n"
     ]
    }
   ],
   "source": [
    "import os\n",
    "\n",
    "os.environ[\"KERAS_BACKEND\"] = \"jax\"\n",
    "import keras\n",
    "\n",
    "keras.mixed_precision.set_global_policy(\"mixed_float16\")\n",
    "from layers import UnetBackbone\n",
    "import numpy as np\n",
    "import io\n",
    "import numpy as np\n",
    "import tensorflow as tf\n",
    "import matplotlib.pyplot as plt\n",
    "\n",
    "epochs = 300\n",
    "\n",
    "\n",
    "# Learning rate scheduler\n",
    "def cosine_annealing_scheduler(epoch, lr):\n",
    "    initial_lr = 1e-3\n",
    "    min_lr = 1e-6\n",
    "    T_max = int(epochs / 2)\n",
    "\n",
    "    cosine_decay = 0.5 * (1 + np.cos(np.pi * (epoch % T_max) / T_max))\n",
    "    new_lr = (initial_lr - min_lr) * cosine_decay + min_lr\n",
    "\n",
    "    return float(new_lr)\n",
    "\n",
    "\n",
    "import numpy as np\n",
    "from utils import (\n",
    "    create_mask_dataset,\n",
    "    iou_coef,\n",
    "    dice_coef,\n",
    "    bfce_dice_loss,\n",
    ")\n",
    "\n",
    "\n",
    "# Load datasets using Keras utilities\n",
    "batch_size = 8\n",
    "\n",
    "img_size = (1920 // 2, 1920 // 2)\n",
    "input_shape = (1920 // 2, 1920 // 2, 1)\n",
    "\n",
    "\n",
    "class PlotMaskCallback(keras.callbacks.Callback):\n",
    "    def __init__(self, val_ds, log_dir=\"logs\"):\n",
    "        super().__init__()\n",
    "        self.file_writer = tf.summary.create_file_writer(f\"{log_dir}/masks\")\n",
    "        self.val_ds = val_ds\n",
    "\n",
    "    def on_epoch_end(self, epoch, logs=None):\n",
    "        # Log both images to TensorBoard\n",
    "        with self.file_writer.as_default():\n",
    "            for batch_index, (images, masks) in enumerate(\n",
    "                self.val_ds.shuffle(buffer_size=8).take(1)\n",
    "            ):\n",
    "                pred_masks = self.model.predict(images)\n",
    "                tf.summary.image(\n",
    "                    f\"Image - {batch_index}\", images / 255.0, step=epoch, max_outputs=4\n",
    "                )\n",
    "                tf.summary.image(\n",
    "                    f\"Mask - {batch_index}\", masks, step=epoch, max_outputs=4\n",
    "                )\n",
    "                tf.summary.image(\n",
    "                    f\"Predicted Mask - {batch_index}\",\n",
    "                    pred_masks,\n",
    "                    step=epoch,\n",
    "                    max_outputs=4,\n",
    "                )\n",
    "\n",
    "\n",
    "train_ds = create_mask_dataset(\n",
    "    img_folder=\"bubble_masks/train/images\",\n",
    "    mask_folder=\"bubble_masks/train/masks\",\n",
    "    input_shape=input_shape,\n",
    "    train=True,\n",
    ")\n",
    "val_ds = create_mask_dataset(\n",
    "    img_folder=\"bubble_masks/val/images\",\n",
    "    mask_folder=\"bubble_masks/val/masks\",\n",
    "    input_shape=input_shape,\n",
    ")\n",
    "train_ds = (\n",
    "    train_ds.shuffle(buffer_size=100, seed=100)\n",
    "    .batch(batch_size)\n",
    "    .prefetch(tf.data.AUTOTUNE)\n",
    ")\n",
    "val_ds = val_ds.batch(batch_size)\n",
    "callbacks = [\n",
    "    keras.callbacks.ModelCheckpoint(\n",
    "        filepath=\"models/unet_semantic_seg_best_loss.keras\",\n",
    "        save_best_only=True,\n",
    "        monitor=\"val_loss\",\n",
    "    ),\n",
    "    keras.callbacks.EarlyStopping(monitor=\"val_loss\", patience=int(epochs / 6)),\n",
    "    keras.callbacks.TensorBoard(log_dir=\"logs\"),\n",
    "    # keras.callbacks.LearningRateScheduler(cosine_annealing_scheduler, verbose=1),\n",
    "    PlotMaskCallback(val_ds=val_ds),\n",
    "]"
   ]
  },
  {
   "cell_type": "code",
   "execution_count": null,
   "id": "4c0dddea",
   "metadata": {},
   "outputs": [],
   "source": []
  },
  {
   "cell_type": "code",
   "execution_count": null,
   "id": "f00e0aaf",
   "metadata": {},
   "outputs": [],
   "source": []
  },
  {
   "cell_type": "code",
   "execution_count": null,
   "id": "84a03bb7",
   "metadata": {},
   "outputs": [
    {
     "name": "stderr",
     "output_type": "stream",
     "text": [
      "/home/lesliebinbin/codings/github-dh-cv/.venv/lib/python3.11/site-packages/keras/src/saving/saving_lib.py:797: UserWarning: Skipping variable loading for optimizer 'loss_scale_optimizer', because it has 94 variables whereas the saved optimizer has 90 variables. \n",
      "  saveable.load_own_variables(weights_store.get(inner_path))\n",
      "/home/lesliebinbin/codings/github-dh-cv/.venv/lib/python3.11/site-packages/keras/src/saving/saving_lib.py:797: UserWarning: Skipping variable loading for optimizer 'adamw', because it has 90 variables whereas the saved optimizer has 0 variables. \n",
      "  saveable.load_own_variables(weights_store.get(inner_path))\n"
     ]
    },
    {
     "data": {
      "text/html": [
       "<pre style=\"white-space:pre;overflow-x:auto;line-height:normal;font-family:Menlo,'DejaVu Sans Mono',consolas,'Courier New',monospace\"><span style=\"font-weight: bold\">Model: \"sequential\"</span>\n",
       "</pre>\n"
      ],
      "text/plain": [
       "\u001b[1mModel: \"sequential\"\u001b[0m\n"
      ]
     },
     "metadata": {},
     "output_type": "display_data"
    },
    {
     "data": {
      "text/html": [
       "<pre style=\"white-space:pre;overflow-x:auto;line-height:normal;font-family:Menlo,'DejaVu Sans Mono',consolas,'Courier New',monospace\">┏━━━━━━━━━━━━━━━━━━━━━━━━━━━━━━━━━┳━━━━━━━━━━━━━━━━━━━━━━━━┳━━━━━━━━━━━━━━━┓\n",
       "┃<span style=\"font-weight: bold\"> Layer (type)                    </span>┃<span style=\"font-weight: bold\"> Output Shape           </span>┃<span style=\"font-weight: bold\">       Param # </span>┃\n",
       "┡━━━━━━━━━━━━━━━━━━━━━━━━━━━━━━━━━╇━━━━━━━━━━━━━━━━━━━━━━━━╇━━━━━━━━━━━━━━━┩\n",
       "│ rescaling (<span style=\"color: #0087ff; text-decoration-color: #0087ff\">Rescaling</span>)           │ (<span style=\"color: #00d7ff; text-decoration-color: #00d7ff\">None</span>, <span style=\"color: #00af00; text-decoration-color: #00af00\">960</span>, <span style=\"color: #00af00; text-decoration-color: #00af00\">1920</span>, <span style=\"color: #00af00; text-decoration-color: #00af00\">1</span>)   │             <span style=\"color: #00af00; text-decoration-color: #00af00\">0</span> │\n",
       "├─────────────────────────────────┼────────────────────────┼───────────────┤\n",
       "│ unet_backbone (<span style=\"color: #0087ff; text-decoration-color: #0087ff\">UnetBackbone</span>)    │ (<span style=\"color: #00d7ff; text-decoration-color: #00d7ff\">None</span>, <span style=\"color: #00af00; text-decoration-color: #00af00\">960</span>, <span style=\"color: #00af00; text-decoration-color: #00af00\">1920</span>, <span style=\"color: #00af00; text-decoration-color: #00af00\">17</span>)  │        <span style=\"color: #00af00; text-decoration-color: #00af00\">82,701</span> │\n",
       "├─────────────────────────────────┼────────────────────────┼───────────────┤\n",
       "│ conv2d (<span style=\"color: #0087ff; text-decoration-color: #0087ff\">Conv2D</span>)                 │ (<span style=\"color: #00d7ff; text-decoration-color: #00d7ff\">None</span>, <span style=\"color: #00af00; text-decoration-color: #00af00\">960</span>, <span style=\"color: #00af00; text-decoration-color: #00af00\">1920</span>, <span style=\"color: #00af00; text-decoration-color: #00af00\">1</span>)   │            <span style=\"color: #00af00; text-decoration-color: #00af00\">18</span> │\n",
       "└─────────────────────────────────┴────────────────────────┴───────────────┘\n",
       "</pre>\n"
      ],
      "text/plain": [
       "┏━━━━━━━━━━━━━━━━━━━━━━━━━━━━━━━━━┳━━━━━━━━━━━━━━━━━━━━━━━━┳━━━━━━━━━━━━━━━┓\n",
       "┃\u001b[1m \u001b[0m\u001b[1mLayer (type)                   \u001b[0m\u001b[1m \u001b[0m┃\u001b[1m \u001b[0m\u001b[1mOutput Shape          \u001b[0m\u001b[1m \u001b[0m┃\u001b[1m \u001b[0m\u001b[1m      Param #\u001b[0m\u001b[1m \u001b[0m┃\n",
       "┡━━━━━━━━━━━━━━━━━━━━━━━━━━━━━━━━━╇━━━━━━━━━━━━━━━━━━━━━━━━╇━━━━━━━━━━━━━━━┩\n",
       "│ rescaling (\u001b[38;5;33mRescaling\u001b[0m)           │ (\u001b[38;5;45mNone\u001b[0m, \u001b[38;5;34m960\u001b[0m, \u001b[38;5;34m1920\u001b[0m, \u001b[38;5;34m1\u001b[0m)   │             \u001b[38;5;34m0\u001b[0m │\n",
       "├─────────────────────────────────┼────────────────────────┼───────────────┤\n",
       "│ unet_backbone (\u001b[38;5;33mUnetBackbone\u001b[0m)    │ (\u001b[38;5;45mNone\u001b[0m, \u001b[38;5;34m960\u001b[0m, \u001b[38;5;34m1920\u001b[0m, \u001b[38;5;34m17\u001b[0m)  │        \u001b[38;5;34m82,701\u001b[0m │\n",
       "├─────────────────────────────────┼────────────────────────┼───────────────┤\n",
       "│ conv2d (\u001b[38;5;33mConv2D\u001b[0m)                 │ (\u001b[38;5;45mNone\u001b[0m, \u001b[38;5;34m960\u001b[0m, \u001b[38;5;34m1920\u001b[0m, \u001b[38;5;34m1\u001b[0m)   │            \u001b[38;5;34m18\u001b[0m │\n",
       "└─────────────────────────────────┴────────────────────────┴───────────────┘\n"
      ]
     },
     "metadata": {},
     "output_type": "display_data"
    },
    {
     "data": {
      "text/html": [
       "<pre style=\"white-space:pre;overflow-x:auto;line-height:normal;font-family:Menlo,'DejaVu Sans Mono',consolas,'Courier New',monospace\"><span style=\"font-weight: bold\"> Total params: </span><span style=\"color: #00af00; text-decoration-color: #00af00\">246,623</span> (963.37 KB)\n",
       "</pre>\n"
      ],
      "text/plain": [
       "\u001b[1m Total params: \u001b[0m\u001b[38;5;34m246,623\u001b[0m (963.37 KB)\n"
      ]
     },
     "metadata": {},
     "output_type": "display_data"
    },
    {
     "data": {
      "text/html": [
       "<pre style=\"white-space:pre;overflow-x:auto;line-height:normal;font-family:Menlo,'DejaVu Sans Mono',consolas,'Courier New',monospace\"><span style=\"font-weight: bold\"> Trainable params: </span><span style=\"color: #00af00; text-decoration-color: #00af00\">81,949</span> (320.11 KB)\n",
       "</pre>\n"
      ],
      "text/plain": [
       "\u001b[1m Trainable params: \u001b[0m\u001b[38;5;34m81,949\u001b[0m (320.11 KB)\n"
      ]
     },
     "metadata": {},
     "output_type": "display_data"
    },
    {
     "data": {
      "text/html": [
       "<pre style=\"white-space:pre;overflow-x:auto;line-height:normal;font-family:Menlo,'DejaVu Sans Mono',consolas,'Courier New',monospace\"><span style=\"font-weight: bold\"> Non-trainable params: </span><span style=\"color: #00af00; text-decoration-color: #00af00\">770</span> (3.01 KB)\n",
       "</pre>\n"
      ],
      "text/plain": [
       "\u001b[1m Non-trainable params: \u001b[0m\u001b[38;5;34m770\u001b[0m (3.01 KB)\n"
      ]
     },
     "metadata": {},
     "output_type": "display_data"
    },
    {
     "data": {
      "text/html": [
       "<pre style=\"white-space:pre;overflow-x:auto;line-height:normal;font-family:Menlo,'DejaVu Sans Mono',consolas,'Courier New',monospace\"><span style=\"font-weight: bold\"> Optimizer params: </span><span style=\"color: #00af00; text-decoration-color: #00af00\">163,904</span> (640.25 KB)\n",
       "</pre>\n"
      ],
      "text/plain": [
       "\u001b[1m Optimizer params: \u001b[0m\u001b[38;5;34m163,904\u001b[0m (640.25 KB)\n"
      ]
     },
     "metadata": {},
     "output_type": "display_data"
    }
   ],
   "source": [
    "# model = keras.Sequential(\n",
    "#     [\n",
    "#         keras.Input(input_shape),\n",
    "#         keras.layers.Rescaling(1.0 / 255),\n",
    "#         UnetBackbone(general_filters=[32, 64, 128], dropout=0.5),\n",
    "#         keras.layers.Conv2D(1, kernel_size=3, activation=\"sigmoid\", padding=\"same\"),\n",
    "#     ]\n",
    "# )\n",
    "model = keras.models.load_model('unet_ss_best.keras', compile=False)\n",
    "model.summary()"
   ]
  },
  {
   "cell_type": "code",
   "execution_count": null,
   "id": "a3535b40",
   "metadata": {},
   "outputs": [],
   "source": [
    "model.compile(\n",
    "    loss=bfce_dice_loss,\n",
    "    optimizer=keras.optimizers.Adam(learning_rate=1e-3, weight_decay=1e-6),\n",
    "    metrics=[iou_coef, dice_coef],\n",
    ")\n",
    "\n",
    "model.fit(\n",
    "    train_ds,\n",
    "    validation_data=val_ds,\n",
    "    epochs=epochs,\n",
    "    callbacks=callbacks,\n",
    ")"
   ]
  },
  {
   "cell_type": "code",
   "execution_count": null,
   "id": "d00114b6",
   "metadata": {},
   "outputs": [],
   "source": []
  }
 ],
 "metadata": {
  "kernelspec": {
   "display_name": "dh-computer-vision (3.11.11)",
   "language": "python",
   "name": "python3"
  },
  "language_info": {
   "codemirror_mode": {
    "name": "ipython",
    "version": 3
   },
   "file_extension": ".py",
   "mimetype": "text/x-python",
   "name": "python",
   "nbconvert_exporter": "python",
   "pygments_lexer": "ipython3",
   "version": "3.11.11"
  }
 },
 "nbformat": 4,
 "nbformat_minor": 5
}
