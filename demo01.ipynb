{
 "cells": [
  {
   "cell_type": "code",
   "execution_count": null,
   "id": "ea61e44e",
   "metadata": {},
   "outputs": [],
   "source": [
    "import numpy as np\n",
    "import pandas as pd\n",
    "import matplotlib.pyplot as plt\n",
    "%matplotlib inline"
   ]
  },
  {
   "cell_type": "code",
   "execution_count": null,
   "id": "d2c83340",
   "metadata": {},
   "outputs": [],
   "source": [
    "from pathlib import Path\n",
    "root_folder = Path('dataset-duplicate/More_sample')"
   ]
  },
  {
   "cell_type": "code",
   "execution_count": null,
   "id": "6f45459f",
   "metadata": {},
   "outputs": [],
   "source": [
    "from pydicom import dcmread\n",
    "heights = []\n",
    "widths = []\n",
    "pixels = []\n",
    "for file in root_folder.rglob('**/*.dcm'):\n",
    "    ds = dcmread(file)\n",
    "    heights.append(ds.pixel_array.shape[0])\n",
    "    widths.append(ds.pixel_array.shape[1])\n",
    "    pixels.append(ds.pixel_array.max())"
   ]
  },
  {
   "cell_type": "code",
   "execution_count": null,
   "id": "452802a4",
   "metadata": {},
   "outputs": [],
   "source": [
    "heights = np.array(heights)\n",
    "widths = np.array(widths)"
   ]
  },
  {
   "cell_type": "code",
   "execution_count": null,
   "id": "c71dc255",
   "metadata": {},
   "outputs": [],
   "source": [
    "widths.mean()"
   ]
  },
  {
   "cell_type": "code",
   "execution_count": null,
   "id": "8b6f3433",
   "metadata": {},
   "outputs": [],
   "source": [
    "widths.max()"
   ]
  },
  {
   "cell_type": "code",
   "execution_count": null,
   "id": "69550a6e",
   "metadata": {},
   "outputs": [],
   "source": [
    "heights.mean()"
   ]
  },
  {
   "cell_type": "code",
   "execution_count": null,
   "id": "308fb81d",
   "metadata": {},
   "outputs": [],
   "source": [
    "heights.max()"
   ]
  },
  {
   "cell_type": "code",
   "execution_count": null,
   "id": "c30b70d7",
   "metadata": {},
   "outputs": [],
   "source": [
    "pixels"
   ]
  },
  {
   "cell_type": "code",
   "execution_count": null,
   "id": "a46b58b6",
   "metadata": {},
   "outputs": [],
   "source": [
    "arr = np.array([[1,2], [3,4]])"
   ]
  },
  {
   "cell_type": "code",
   "execution_count": null,
   "id": "4528fe39",
   "metadata": {},
   "outputs": [],
   "source": [
    "np.tile(arr, (3, 1))"
   ]
  },
  {
   "cell_type": "code",
   "execution_count": null,
   "id": "77ae4929",
   "metadata": {},
   "outputs": [],
   "source": []
  }
 ],
 "metadata": {
  "kernelspec": {
   "display_name": "dh-computer-vision",
   "language": "python",
   "name": "python3"
  },
  "language_info": {
   "codemirror_mode": {
    "name": "ipython",
    "version": 3
   },
   "file_extension": ".py",
   "mimetype": "text/x-python",
   "name": "python",
   "nbconvert_exporter": "python",
   "pygments_lexer": "ipython3",
   "version": "3.11.11"
  }
 },
 "nbformat": 4,
 "nbformat_minor": 5
}
