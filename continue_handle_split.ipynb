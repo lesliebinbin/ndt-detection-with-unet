{
 "cells": [
  {
   "cell_type": "code",
   "execution_count": 6,
   "id": "db5e1d6c",
   "metadata": {},
   "outputs": [],
   "source": [
    "from pathlib import Path\n",
    "from sklearn.model_selection import train_test_split\n",
    "from collections import defaultdict\n",
    "coll_train = defaultdict(list)\n",
    "coll_test = defaultdict(list)\n",
    "root_src = Path(\"dcm_data_by_split\")\n",
    "for proportion_folder in root_src.iterdir():\n",
    "    for label_folder in proportion_folder.iterdir():\n",
    "        label = label_folder.name\n",
    "        files = [file for file in label_folder.iterdir()]\n",
    "        train_files, test_files = train_test_split(files)\n",
    "        coll_train[label].extend(train_files)\n",
    "        coll_test[label].extend(test_files)\n"
   ]
  },
  {
   "cell_type": "code",
   "execution_count": 11,
   "id": "91ad2acb",
   "metadata": {},
   "outputs": [],
   "source": [
    "import shutil\n",
    "output_train = root_src / \"train\"\n",
    "output_val = root_src / \"valid\"\n",
    "for k, files in coll_train.items():\n",
    "    for file in files:\n",
    "        tgt_path = output_train / k / file.name\n",
    "        tgt_path.parent.mkdir(exist_ok=True, parents=True)\n",
    "        shutil.copyfile(file, tgt_path)"
   ]
  },
  {
   "cell_type": "code",
   "execution_count": 12,
   "id": "35cacd0d",
   "metadata": {},
   "outputs": [],
   "source": [
    "for k, files in coll_test.items():\n",
    "    for file in files:\n",
    "        tgt_path = output_val / k / file.name\n",
    "        tgt_path.parent.mkdir(exist_ok=True, parents=True)\n",
    "        shutil.copyfile(file, tgt_path)"
   ]
  },
  {
   "cell_type": "code",
   "execution_count": null,
   "id": "a53c21b7",
   "metadata": {},
   "outputs": [],
   "source": []
  }
 ],
 "metadata": {
  "kernelspec": {
   "display_name": "dh-computer-vision (3.11.11)",
   "language": "python",
   "name": "python3"
  },
  "language_info": {
   "codemirror_mode": {
    "name": "ipython",
    "version": 3
   },
   "file_extension": ".py",
   "mimetype": "text/x-python",
   "name": "python",
   "nbconvert_exporter": "python",
   "pygments_lexer": "ipython3",
   "version": "3.11.11"
  }
 },
 "nbformat": 4,
 "nbformat_minor": 5
}
