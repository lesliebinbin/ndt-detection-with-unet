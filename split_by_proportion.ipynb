{
 "cells": [
  {
   "cell_type": "code",
   "execution_count": 1,
   "id": "19007858",
   "metadata": {},
   "outputs": [],
   "source": [
    "from pathlib import Path"
   ]
  },
  {
   "cell_type": "code",
   "execution_count": 2,
   "id": "3b8549bf",
   "metadata": {},
   "outputs": [],
   "source": [
    "labels_map = {\n",
    "    \"圆形\": \"circle\",\n",
    "    \"未熔合\": \"lack_of_fusion\",\n",
    "    \"未焊透\": \"lack_of_penetration\",\n",
    "    \"条形\": \"line\",\n",
    "    \"内凹\": \"pit\",\n",
    "    \"咬边\": \"undercut\",\n",
    "    \"合格\": \"valid\"\n",
    "}"
   ]
  },
  {
   "cell_type": "code",
   "execution_count": 3,
   "id": "4329e563",
   "metadata": {},
   "outputs": [],
   "source": [
    "from collections import defaultdict\n",
    "src_folder = Path(\"dcm_official\")\n",
    "proportion_folder = Path(\"dcm_proportion\")\n",
    "proportion_folder.mkdir(exist_ok=True)\n",
    "files = defaultdict(list)"
   ]
  },
  {
   "cell_type": "code",
   "execution_count": 4,
   "id": "6c5c3f55",
   "metadata": {},
   "outputs": [
    {
     "name": "stdout",
     "output_type": "stream",
     "text": [
      "dcm_official/泰思特/0213.001-N603-9-6-1-条形缺陷-圆形缺陷.DCM\n",
      "dcm_official/金陵/1701-060-9093-003-C399-66-1-2-未熔合-圆形缺陷.DCM\n",
      "dcm_official/金陵/4305-061-2210-001-X310-12-5-6-裂纹.DCM\n",
      "dcm_official/金陵/1253-016-EV031B10B002-FPP01-6-1-2-裂纹.DCM\n"
     ]
    }
   ],
   "source": [
    "from pydicom import dcmread\n",
    "for file in src_folder.rglob(\"**/*.DCM\"):\n",
    "    labels = []\n",
    "    for k in labels_map:    \n",
    "        if k in str(file.absolute()):\n",
    "            labels.append(labels_map[k])\n",
    "    if len(labels) == 1:\n",
    "        label = labels[0]\n",
    "        arr = dcmread(file).pixel_array\n",
    "        proportion = max(arr.shape[0] // arr.shape[1], arr.shape[1]//arr.shape[0])\n",
    "        tgt_path = proportion_folder / f\"aspect_ration_{proportion}\" / label / file.name\n",
    "        tgt_path.parent.mkdir(exist_ok=True, parents=True)\n",
    "        file.rename(tgt_path)\n",
    "    else:\n",
    "        print(file)\n",
    "    \n"
   ]
  },
  {
   "cell_type": "code",
   "execution_count": null,
   "id": "710d3db7",
   "metadata": {},
   "outputs": [],
   "source": []
  }
 ],
 "metadata": {
  "kernelspec": {
   "display_name": "dh-computer-vision (3.11.11)",
   "language": "python",
   "name": "python3"
  },
  "language_info": {
   "codemirror_mode": {
    "name": "ipython",
    "version": 3
   },
   "file_extension": ".py",
   "mimetype": "text/x-python",
   "name": "python",
   "nbconvert_exporter": "python",
   "pygments_lexer": "ipython3",
   "version": "3.11.11"
  }
 },
 "nbformat": 4,
 "nbformat_minor": 5
}
