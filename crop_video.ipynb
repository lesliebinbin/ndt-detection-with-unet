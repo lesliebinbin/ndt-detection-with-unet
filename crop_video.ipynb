{
 "cells": [
  {
   "cell_type": "code",
   "execution_count": null,
   "id": "3dff4e9d",
   "metadata": {},
   "outputs": [],
   "source": [
    "from moviepy import *\n",
    "src_video = VideoFileClip(\"execution_flow.mp4\")\n",
    "sub_clip = src_video.subclipped(10, 70)\n",
    "first_clip = vfx.MultiplySpeed(factor=3).apply(sub_clip)\n",
    "sub_clip = src_video.subclipped(232, 251)\n",
    "second_clip = vfx.MultiplySpeed(factor=2).apply(sub_clip)\n",
    "second_clip.display_in_notebook()\n",
    "sub_clip = src_video.subclipped(259, 268)\n",
    "third_clip = sub_clip\n",
    "fourth_clip = src_video.subclipped(307)"
   ]
  },
  {
   "cell_type": "code",
   "execution_count": null,
   "id": "94a5c07a",
   "metadata": {},
   "outputs": [],
   "source": [
    "final_clip = concatenate_videoclips([first_clip, second_clip,third_clip, fourth_clip])"
   ]
  },
  {
   "cell_type": "code",
   "execution_count": null,
   "id": "c9862a52",
   "metadata": {},
   "outputs": [],
   "source": [
    "final_clip.display_in_notebook()"
   ]
  },
  {
   "cell_type": "code",
   "execution_count": null,
   "id": "18c362b5",
   "metadata": {},
   "outputs": [],
   "source": [
    "final_clip.write_videofile(\"dcm_classifier.mp4\")"
   ]
  },
  {
   "cell_type": "code",
   "execution_count": null,
   "id": "7ed02661",
   "metadata": {},
   "outputs": [],
   "source": []
  }
 ],
 "metadata": {
  "kernelspec": {
   "display_name": "dh-computer-vision (3.11.11)",
   "language": "python",
   "name": "python3"
  },
  "language_info": {
   "codemirror_mode": {
    "name": "ipython",
    "version": 3
   },
   "file_extension": ".py",
   "mimetype": "text/x-python",
   "name": "python",
   "nbconvert_exporter": "python",
   "pygments_lexer": "ipython3",
   "version": "3.11.11"
  }
 },
 "nbformat": 4,
 "nbformat_minor": 5
}
