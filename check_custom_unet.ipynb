{
 "cells": [
  {
   "cell_type": "code",
   "execution_count": null,
   "id": "a48fc0dc",
   "metadata": {},
   "outputs": [],
   "source": [
    "import os\n",
    "os.environ['KERAS_BACKEND'] = 'jax'\n",
    "import keras\n",
    "from layers import UnetBackbone\n",
    "# keras.mixed_precision.set_global_policy(\"mixed_float16\")\n",
    "model = keras.models.Sequential(\n",
    "    [\n",
    "        keras.Input(shape=(1920 // 2, 1920, 3)),\n",
    "        UnetBackbone(),\n",
    "        keras.layers.Conv2D(\n",
    "            filters=1, kernel_size=3, padding=\"same\", activation=\"sigmoid\"\n",
    "        ),\n",
    "    ]\n",
    ")\n",
    "\n",
    "model.summary()\n",
    "\n",
    "import numpy as np\n",
    "arr = np.random.random(size=(16, 1920 // 2, 1920, 3))\n",
    "result = model(arr)\n",
    "result"
   ]
  },
  {
   "cell_type": "code",
   "execution_count": null,
   "id": "cd72b977",
   "metadata": {},
   "outputs": [],
   "source": []
  }
 ],
 "metadata": {
  "kernelspec": {
   "display_name": "dh-computer-vision (3.11.11)",
   "language": "python",
   "name": "python3"
  },
  "language_info": {
   "codemirror_mode": {
    "name": "ipython",
    "version": 3
   },
   "file_extension": ".py",
   "mimetype": "text/x-python",
   "name": "python",
   "nbconvert_exporter": "python",
   "pygments_lexer": "ipython3",
   "version": "3.11.11"
  }
 },
 "nbformat": 4,
 "nbformat_minor": 5
}
