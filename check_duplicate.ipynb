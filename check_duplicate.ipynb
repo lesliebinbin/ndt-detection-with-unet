{
 "cells": [
  {
   "cell_type": "code",
   "execution_count": null,
   "id": "36fb0e84",
   "metadata": {},
   "outputs": [],
   "source": [
    "import os\n",
    "\n",
    "os.environ[\"KERAS_BACKEND\"] = \"jax\"\n",
    "import keras"
   ]
  },
  {
   "cell_type": "code",
   "execution_count": null,
   "id": "1f8ec88d",
   "metadata": {},
   "outputs": [],
   "source": [
    "from pathlib import Path\n",
    "files = [file for file in Path(\"dataset_by_aspect_ratio/general\").rglob(\"**/*.jpg\")]\n",
    "train_folder = Path(\"dataset_by_aspect_ratio/train\")\n",
    "valid_folder = Path(\"dataset_by_aspect_ratio/valid\")"
   ]
  },
  {
   "cell_type": "code",
   "execution_count": null,
   "id": "99f22290",
   "metadata": {},
   "outputs": [],
   "source": [
    "len(files)"
   ]
  },
  {
   "cell_type": "code",
   "execution_count": null,
   "id": "ff37ffc2",
   "metadata": {},
   "outputs": [],
   "source": [
    "import tensorflow as tf\n",
    "import numpy as np\n",
    "imgs = []\n",
    "for file in files:\n",
    "    img = tf.io.read_file(str(file.absolute()))\n",
    "    img = tf.image.decode_image(img, channels=1)\n",
    "    img = tf.image.resize(img, (512, 512))\n",
    "    imgs.append(img)\n",
    "imgs = np.array(imgs)\n"
   ]
  },
  {
   "cell_type": "code",
   "execution_count": null,
   "id": "1e8f1ec3",
   "metadata": {},
   "outputs": [],
   "source": [
    "imgs.shape"
   ]
  },
  {
   "cell_type": "code",
   "execution_count": null,
   "id": "f3f0ef65",
   "metadata": {},
   "outputs": [],
   "source": [
    "model = keras.models.load_model(\"models/circle-versus-lack_of_fusion_best_val_acc.keras\", compile=False)"
   ]
  },
  {
   "cell_type": "code",
   "execution_count": null,
   "id": "fcece71c",
   "metadata": {},
   "outputs": [],
   "source": [
    "result = model.predict(imgs)"
   ]
  },
  {
   "cell_type": "code",
   "execution_count": null,
   "id": "430a916d",
   "metadata": {},
   "outputs": [],
   "source": [
    "result_arry = [(float(a), float(b)) for a, b in result]"
   ]
  },
  {
   "cell_type": "code",
   "execution_count": null,
   "id": "f44b1d21",
   "metadata": {},
   "outputs": [],
   "source": [
    "len(result_arry)"
   ]
  },
  {
   "cell_type": "code",
   "execution_count": null,
   "id": "3c8f652d",
   "metadata": {},
   "outputs": [],
   "source": [
    "len(set(result_arry))"
   ]
  },
  {
   "cell_type": "code",
   "execution_count": null,
   "id": "1b61f63c",
   "metadata": {},
   "outputs": [],
   "source": [
    "duplicate_indices = []\n",
    "result_len = len(result_arry)\n",
    "for index_a in range(result_len):\n",
    "    for index_b in range(index_a+1, result_len):\n",
    "        if result_arry[index_a] == result_arry[index_b]:\n",
    "            duplicate_indices.append((index_a, index_b))"
   ]
  },
  {
   "cell_type": "code",
   "execution_count": null,
   "id": "089ac54d",
   "metadata": {},
   "outputs": [],
   "source": [
    "duplicate_indices"
   ]
  },
  {
   "cell_type": "code",
   "execution_count": null,
   "id": "efc3aedb",
   "metadata": {},
   "outputs": [],
   "source": [
    "from PIL import Image\n",
    "import matplotlib.pyplot as plt\n",
    "indices = set()\n",
    "for index_a, index_b in duplicate_indices:\n",
    "    indices.add(index_a)\n",
    "    indices.add(index_b)\n",
    "    img_a, img_b = Image.open(files[index_a]), Image.open(files[index_b]) \n",
    "    plt.imshow(img_a)\n",
    "    plt.show()\n",
    "    plt.imshow(img_b)\n",
    "    plt.show()\n",
    "    print(files[index_a].absolute())\n",
    "    print(files[index_b].absolute())"
   ]
  },
  {
   "cell_type": "code",
   "execution_count": null,
   "id": "13f11fc9",
   "metadata": {},
   "outputs": [],
   "source": [
    "indices"
   ]
  },
  {
   "cell_type": "code",
   "execution_count": null,
   "id": "f0727262",
   "metadata": {},
   "outputs": [],
   "source": [
    "for index in indices:\n",
    "    file = files[index]\n",
    "    file_name = file.name\n",
    "    label = file.parent.name\n",
    "    file_to_remove = train_folder / label /file_name\n",
    "    if not file_to_remove.exists():\n",
    "        file_to_remove = valid_folder / label /file_name\n",
    "    file_to_remove.unlink()"
   ]
  },
  {
   "cell_type": "code",
   "execution_count": null,
   "id": "e9055e7c",
   "metadata": {},
   "outputs": [],
   "source": []
  }
 ],
 "metadata": {
  "kernelspec": {
   "display_name": "dh-computer-vision (3.11.11)",
   "language": "python",
   "name": "python3"
  },
  "language_info": {
   "codemirror_mode": {
    "name": "ipython",
    "version": 3
   },
   "file_extension": ".py",
   "mimetype": "text/x-python",
   "name": "python",
   "nbconvert_exporter": "python",
   "pygments_lexer": "ipython3",
   "version": "3.11.11"
  }
 },
 "nbformat": 4,
 "nbformat_minor": 5
}
