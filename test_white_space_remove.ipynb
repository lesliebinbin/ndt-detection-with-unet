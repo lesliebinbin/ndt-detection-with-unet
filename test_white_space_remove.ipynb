{
 "cells": [
  {
   "cell_type": "code",
   "execution_count": null,
   "id": "8cb60f51",
   "metadata": {},
   "outputs": [],
   "source": [
    "from utils import remove_white_theshold\n",
    "import matplotlib.pyplot as plt"
   ]
  },
  {
   "cell_type": "code",
   "execution_count": null,
   "id": "c0af9fcd",
   "metadata": {},
   "outputs": [],
   "source": []
  },
  {
   "cell_type": "code",
   "execution_count": null,
   "id": "1ea541c5",
   "metadata": {},
   "outputs": [],
   "source": [
    "from pathlib import Path\n",
    "import matplotlib.pyplot as plt"
   ]
  },
  {
   "cell_type": "code",
   "execution_count": null,
   "id": "bd822c51",
   "metadata": {},
   "outputs": [],
   "source": [
    "from PIL import Image\n",
    "batch_index = 0\n",
    "img_files = [file for file in Path(\"dataset_by_aspect_ratio/train/lack_of_fusion\").rglob(\"**/*.jpg\")]\n",
    "for img_path in img_files:\n",
    "    origin_img = Image.open(img_path)\n",
    "    cropped_img, is_cropped = remove_white_theshold(img_path)\n",
    "    if is_cropped:\n",
    "        plt.axis(\"off\")\n",
    "        plt.imshow(origin_img)\n",
    "        plt.show()\n",
    "        plt.axis(\"off\")\n",
    "        plt.imshow(cropped_img)\n",
    "        plt.show()\n",
    "        cropped_img.save(img_path)\n",
    "    else:\n",
    "        print(f\"No crop for: {img_path}\")\n"
   ]
  },
  {
   "cell_type": "code",
   "execution_count": null,
   "id": "617b763d",
   "metadata": {},
   "outputs": [],
   "source": []
  },
  {
   "cell_type": "code",
   "execution_count": null,
   "id": "09b5ba97",
   "metadata": {},
   "outputs": [],
   "source": []
  },
  {
   "cell_type": "code",
   "execution_count": null,
   "id": "e73d57e8",
   "metadata": {},
   "outputs": [],
   "source": []
  },
  {
   "cell_type": "code",
   "execution_count": null,
   "id": "c8dac8fd",
   "metadata": {},
   "outputs": [],
   "source": []
  }
 ],
 "metadata": {
  "kernelspec": {
   "display_name": "dh-computer-vision (3.11.11)",
   "language": "python",
   "name": "python3"
  },
  "language_info": {
   "codemirror_mode": {
    "name": "ipython",
    "version": 3
   },
   "file_extension": ".py",
   "mimetype": "text/x-python",
   "name": "python",
   "nbconvert_exporter": "python",
   "pygments_lexer": "ipython3",
   "version": "3.11.11"
  }
 },
 "nbformat": 4,
 "nbformat_minor": 5
}
