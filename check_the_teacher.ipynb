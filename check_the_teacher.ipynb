{
 "cells": [
  {
   "cell_type": "code",
   "execution_count": null,
   "id": "b2a504ef",
   "metadata": {},
   "outputs": [],
   "source": [
    "import os\n",
    "\n",
    "os.environ[\"KERAS_BACKEND\"] = \"jax\"\n",
    "import keras"
   ]
  },
  {
   "cell_type": "code",
   "execution_count": null,
   "id": "0e24ac80",
   "metadata": {},
   "outputs": [],
   "source": [
    "import keras_hub"
   ]
  },
  {
   "cell_type": "code",
   "execution_count": null,
   "id": "991d4cd6",
   "metadata": {},
   "outputs": [],
   "source": []
  },
  {
   "cell_type": "code",
   "execution_count": null,
   "id": "9809e04b",
   "metadata": {},
   "outputs": [],
   "source": [
    "resnet18 = keras_hub.models.ResNetBackbone.from_preset(preset='resnet_18_imagenet', load_weights=False, image_shape=(512, 512, 1))"
   ]
  },
  {
   "cell_type": "code",
   "execution_count": null,
   "id": "f4aa03a7",
   "metadata": {},
   "outputs": [],
   "source": [
    "resnet18.get_config()"
   ]
  },
  {
   "cell_type": "code",
   "execution_count": null,
   "id": "1b8f7944",
   "metadata": {},
   "outputs": [],
   "source": []
  },
  {
   "cell_type": "code",
   "execution_count": null,
   "id": "779ad15c",
   "metadata": {},
   "outputs": [],
   "source": []
  }
 ],
 "metadata": {
  "kernelspec": {
   "display_name": "dh-computer-vision",
   "language": "python",
   "name": "python3"
  },
  "language_info": {
   "codemirror_mode": {
    "name": "ipython",
    "version": 3
   },
   "file_extension": ".py",
   "mimetype": "text/x-python",
   "name": "python",
   "nbconvert_exporter": "python",
   "pygments_lexer": "ipython3",
   "version": "3.11.11"
  }
 },
 "nbformat": 4,
 "nbformat_minor": 5
}
