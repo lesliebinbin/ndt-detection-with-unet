{
 "cells": [
  {
   "cell_type": "code",
   "execution_count": null,
   "id": "a219bdbe",
   "metadata": {},
   "outputs": [],
   "source": [
    "from pydicom import dcmread"
   ]
  },
  {
   "cell_type": "code",
   "execution_count": null,
   "id": "1f5fad9c",
   "metadata": {},
   "outputs": [],
   "source": [
    "from pathlib import Path"
   ]
  },
  {
   "cell_type": "code",
   "execution_count": null,
   "id": "cbc7563e",
   "metadata": {},
   "outputs": [],
   "source": [
    "src_folder = Path('dataset-to-commit/dataset-duplicate')\n"
   ]
  },
  {
   "cell_type": "code",
   "execution_count": null,
   "id": "033d2fc3",
   "metadata": {},
   "outputs": [],
   "source": [
    "labels = [label.name for label in src_folder.iterdir() if label.is_dir()]"
   ]
  },
  {
   "cell_type": "code",
   "execution_count": null,
   "id": "03411aa2",
   "metadata": {},
   "outputs": [],
   "source": [
    "labels"
   ]
  },
  {
   "cell_type": "code",
   "execution_count": null,
   "id": "c59578f9",
   "metadata": {},
   "outputs": [],
   "source": [
    "tgt_folder = Path('transformed_dataset')"
   ]
  },
  {
   "cell_type": "code",
   "execution_count": null,
   "id": "0a94041a",
   "metadata": {},
   "outputs": [],
   "source": [
    "import numpy as np\n",
    "def dcm_loader(path):\n",
    "    dcm = dcmread(path)\n",
    "    arr = dcm.pixel_array\n",
    "    height, width = arr.shape\n",
    "    if width < height:\n",
    "        pad_width = height - width\n",
    "        arr = np.pad(arr, ((0, 0), (0, pad_width)), mode='constant', constant_values=0)\n",
    "    elif width > height:\n",
    "        count = width // height\n",
    "        rest = width % height\n",
    "        # Repeat vertically\n",
    "        arr_repeated = np.tile(arr, (count, 1))\n",
    "        # Pad the rest with zeros at the bottom\n",
    "        if rest > 0:\n",
    "            arr_pad = np.zeros((rest, width), dtype=arr.dtype)\n",
    "            arr_repeated = np.vstack([arr_repeated, arr_pad])\n",
    "        arr = arr_repeated\n",
    "    # else: already square\n",
    "    arr = arr / arr.max() * 255.  # Normalize to 0-255\n",
    "    arr = arr.astype(np.uint8)  # Convert to uint8\n",
    "    img = Image.fromarray(arr)\n",
    "    return img"
   ]
  },
  {
   "cell_type": "code",
   "execution_count": null,
   "id": "ac6f5f05",
   "metadata": {},
   "outputs": [],
   "source": [
    "import numpy as np\n",
    "from PIL import Image\n",
    "def dcm_loader(path):\n",
    "    img_array = []\n",
    "    imgs = []\n",
    "    dcm = dcmread(path)\n",
    "    arr = dcm.pixel_array\n",
    "    arr = arr / arr.max() * 255\n",
    "    arr = arr.astype(np.uint8)\n",
    "    height, width = arr.shape\n",
    "    if height > width:\n",
    "        arr = arr.transpose()\n",
    "    height, width = arr.shape\n",
    "    proportion = int(np.ceil(width / height))\n",
    "    arr = np.pad(arr, ((0, 0), (0, int(height * proportion - width))), mode='constant', constant_values=0)\n",
    "    for i in range(proportion):\n",
    "        img_array.append(arr[:, height*i:height*(i+1)])\n",
    "    for img in img_array:\n",
    "        imgs.append(Image.fromarray(img))\n",
    "    return imgs\n",
    "    "
   ]
  },
  {
   "cell_type": "code",
   "execution_count": null,
   "id": "437f52d2",
   "metadata": {},
   "outputs": [],
   "source": [
    "src_folder = Path('official_data/train_ds')"
   ]
  },
  {
   "cell_type": "code",
   "execution_count": null,
   "id": "88343558",
   "metadata": {},
   "outputs": [],
   "source": [
    "labels = [folder.name for folder in src_folder.iterdir()]"
   ]
  },
  {
   "cell_type": "code",
   "execution_count": null,
   "id": "f0dcb04e",
   "metadata": {},
   "outputs": [],
   "source": [
    "labels"
   ]
  },
  {
   "cell_type": "code",
   "execution_count": null,
   "id": "6e21b88c",
   "metadata": {},
   "outputs": [],
   "source": [
    "target_folder = Path('splitted_imgs')\n",
    "for label in labels:\n",
    "    sub_folder = src_folder / label\n",
    "    for file in sub_folder.rglob(\"**/*.dcm\"):\n",
    "        imgs = dcm_loader(file)\n",
    "        for index, img in enumerate(imgs):\n",
    "            tgt_file = target_folder / label / f\"{file.stem}_{index}.png\"\n",
    "            tgt_file.parent.mkdir(parents=True, exist_ok=True)\n",
    "            img.save(tgt_file)\n",
    "    print(f'{label}: Done')"
   ]
  },
  {
   "cell_type": "code",
   "execution_count": null,
   "id": "38794ebf",
   "metadata": {},
   "outputs": [],
   "source": [
    "src_folder = Path('official_data/val_ds')"
   ]
  },
  {
   "cell_type": "code",
   "execution_count": null,
   "id": "67c23669",
   "metadata": {},
   "outputs": [],
   "source": [
    "for label in labels:\n",
    "    sub_folder = src_folder / label\n",
    "    for file in sub_folder.rglob(\"**/*.dcm\"):\n",
    "        imgs = dcm_loader(file)\n",
    "        for index, img in enumerate(imgs):\n",
    "            tgt_file = target_folder / label / f\"{file.stem}_{index}.png\"\n",
    "            tgt_file.parent.mkdir(parents=True, exist_ok=True)\n",
    "            img.save(tgt_file)\n",
    "    print(f'{label}: Done')"
   ]
  },
  {
   "cell_type": "code",
   "execution_count": null,
   "id": "d7823484",
   "metadata": {},
   "outputs": [],
   "source": [
    "src_folder = Path('official_data/test_ds')"
   ]
  },
  {
   "cell_type": "code",
   "execution_count": null,
   "id": "61a85d20",
   "metadata": {},
   "outputs": [],
   "source": [
    "for label in labels:\n",
    "    sub_folder = src_folder / label\n",
    "    for file in sub_folder.rglob(\"**/*.dcm\"):\n",
    "        imgs = dcm_loader(file)\n",
    "        for index, img in enumerate(imgs):\n",
    "            tgt_file = target_folder / label / f\"{file.stem}_{index}.png\"\n",
    "            tgt_file.parent.mkdir(parents=True, exist_ok=True)\n",
    "            img.save(tgt_file)\n",
    "    print(f'{label}: Done')"
   ]
  },
  {
   "cell_type": "code",
   "execution_count": null,
   "id": "25f6d41b",
   "metadata": {},
   "outputs": [],
   "source": []
  }
 ],
 "metadata": {
  "kernelspec": {
   "display_name": "dh-computer-vision",
   "language": "python",
   "name": "python3"
  },
  "language_info": {
   "codemirror_mode": {
    "name": "ipython",
    "version": 3
   },
   "file_extension": ".py",
   "mimetype": "text/x-python",
   "name": "python",
   "nbconvert_exporter": "python",
   "pygments_lexer": "ipython3",
   "version": "3.11.11"
  }
 },
 "nbformat": 4,
 "nbformat_minor": 5
}
