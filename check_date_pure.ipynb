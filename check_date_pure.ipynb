{
 "cells": [
  {
   "cell_type": "code",
   "execution_count": 1,
   "id": "b5dab988",
   "metadata": {},
   "outputs": [],
   "source": [
    "from pathlib import Path"
   ]
  },
  {
   "cell_type": "code",
   "execution_count": 2,
   "id": "58d6b6ae",
   "metadata": {},
   "outputs": [],
   "source": [
    "train_folder = Path(\"official_images/train_origin\")\n",
    "valid_folder = Path(\"official_images/valid\")\n",
    "test_folder = Path(\"official_images/test\")"
   ]
  },
  {
   "cell_type": "code",
   "execution_count": 3,
   "id": "f4b5ca67",
   "metadata": {},
   "outputs": [],
   "source": [
    "assert train_folder.exists() and valid_folder.exists() and test_folder.exists()"
   ]
  },
  {
   "cell_type": "code",
   "execution_count": 4,
   "id": "4cb02df1",
   "metadata": {},
   "outputs": [],
   "source": [
    "train_imgs = [file.name for file in train_folder.rglob(\"**/*.jpg\")]\n",
    "test_imgs = [file.name for file in test_folder.rglob(\"**/*.jpg\")]\n",
    "valid_imgs = [file.name for file in valid_folder.rglob(\"**/*.jpg\")]"
   ]
  },
  {
   "cell_type": "code",
   "execution_count": 6,
   "id": "2906bc31",
   "metadata": {},
   "outputs": [],
   "source": [
    "train_imgs = set(train_imgs)\n",
    "test_imgs = set(test_imgs)\n",
    "valid_imgs = set(valid_imgs)"
   ]
  },
  {
   "cell_type": "code",
   "execution_count": 7,
   "id": "6f2b0da9",
   "metadata": {},
   "outputs": [
    {
     "data": {
      "text/plain": [
       "set()"
      ]
     },
     "execution_count": 7,
     "metadata": {},
     "output_type": "execute_result"
    }
   ],
   "source": [
    "train_imgs & valid_imgs"
   ]
  },
  {
   "cell_type": "code",
   "execution_count": 8,
   "id": "fac033f3",
   "metadata": {},
   "outputs": [
    {
     "data": {
      "text/plain": [
       "set()"
      ]
     },
     "execution_count": 8,
     "metadata": {},
     "output_type": "execute_result"
    }
   ],
   "source": [
    "train_imgs & test_imgs"
   ]
  },
  {
   "cell_type": "code",
   "execution_count": null,
   "id": "b0bcfa0c",
   "metadata": {},
   "outputs": [],
   "source": []
  }
 ],
 "metadata": {
  "kernelspec": {
   "display_name": "dh-computer-vision (3.11.11)",
   "language": "python",
   "name": "python3"
  },
  "language_info": {
   "codemirror_mode": {
    "name": "ipython",
    "version": 3
   },
   "file_extension": ".py",
   "mimetype": "text/x-python",
   "name": "python",
   "nbconvert_exporter": "python",
   "pygments_lexer": "ipython3",
   "version": "3.11.11"
  }
 },
 "nbformat": 4,
 "nbformat_minor": 5
}
