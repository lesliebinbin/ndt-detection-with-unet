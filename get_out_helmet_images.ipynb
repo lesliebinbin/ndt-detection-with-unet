{
 "cells": [
  {
   "cell_type": "code",
   "execution_count": null,
   "id": "69b395da",
   "metadata": {},
   "outputs": [],
   "source": [
    "from pathlib import Path"
   ]
  },
  {
   "cell_type": "code",
   "execution_count": null,
   "id": "25be85ae",
   "metadata": {},
   "outputs": [],
   "source": [
    "import os\n",
    "\n",
    "os.environ[\"KERAS_BACKEND\"] = \"torch\"\n",
    "import keras\n",
    "from PIL import Image"
   ]
  },
  {
   "cell_type": "code",
   "execution_count": null,
   "id": "5158fd37",
   "metadata": {},
   "outputs": [],
   "source": [
    "root_folder = Path(\"original_images\")"
   ]
  },
  {
   "cell_type": "code",
   "execution_count": null,
   "id": "af823a8f",
   "metadata": {},
   "outputs": [],
   "source": [
    "root_folder.exists()"
   ]
  },
  {
   "cell_type": "code",
   "execution_count": null,
   "id": "f93471a5",
   "metadata": {},
   "outputs": [],
   "source": [
    "model = keras.models.load_model(\"models/safety_ai.keras\", compile=False)"
   ]
  },
  {
   "cell_type": "code",
   "execution_count": null,
   "id": "f95d1679",
   "metadata": {},
   "outputs": [],
   "source": [
    "import numpy as np\n",
    "with_helmet_folder = Path(\"with_helmet\")\n",
    "without_helmet_folder = Path(\"without_helmet\")\n",
    "uncertain_folder = Path(\"uncertain\")\n",
    "img_files = [file for file in root_folder.iterdir()]"
   ]
  },
  {
   "cell_type": "code",
   "execution_count": null,
   "id": "7542a691",
   "metadata": {},
   "outputs": [],
   "source": [
    "# img_files = np.random.choice(img_files, size=500, replace=False)"
   ]
  },
  {
   "cell_type": "code",
   "execution_count": null,
   "id": "0bf75f10",
   "metadata": {},
   "outputs": [],
   "source": [
    "from PIL import Image, ImageOps\n",
    "\n",
    "def img_process(img_path: Path) ->Image.Image:\n",
    "    img = Image.open(img_path)\n",
    "    if img.width > img.height:\n",
    "        img = img.transpose(Image.Transpose.ROTATE_90)\n",
    "    width, height = img.size\n",
    "    pad_size = (height - width) // 2\n",
    "    padding = (pad_size, 0, height - width- pad_size, 0)\n",
    "    img = ImageOps.expand(img, padding, fill=0)\n",
    "    img = img.resize((512, 512))\n",
    "    return img"
   ]
  },
  {
   "cell_type": "code",
   "execution_count": null,
   "id": "24e45f3f",
   "metadata": {},
   "outputs": [],
   "source": [
    "imgs_np = np.array([np.array(img_process(file)) for file in img_files])"
   ]
  },
  {
   "cell_type": "code",
   "execution_count": null,
   "id": "5af56464",
   "metadata": {},
   "outputs": [],
   "source": [
    "imgs_np.shape"
   ]
  },
  {
   "cell_type": "code",
   "execution_count": null,
   "id": "56edc846",
   "metadata": {},
   "outputs": [],
   "source": [
    "result = model.predict(imgs_np)"
   ]
  },
  {
   "cell_type": "code",
   "execution_count": null,
   "id": "8585ffaf",
   "metadata": {},
   "outputs": [],
   "source": [
    "folders = [uncertain_folder, with_helmet_folder, without_helmet_folder]\n",
    "for index, r in enumerate(result.argmax(axis=1)):\n",
    "    folder = folders[r]\n",
    "    img_file = img_files[index]\n",
    "    tgt_file = folder / img_file.name\n",
    "    tgt_file.parent.mkdir(exist_ok=True, parents=True)\n",
    "    img_file.rename(tgt_file)"
   ]
  },
  {
   "cell_type": "code",
   "execution_count": null,
   "id": "487c1dab",
   "metadata": {},
   "outputs": [],
   "source": []
  }
 ],
 "metadata": {
  "kernelspec": {
   "display_name": "dh-computer-vision (3.11.11)",
   "language": "python",
   "name": "python3"
  },
  "language_info": {
   "codemirror_mode": {
    "name": "ipython",
    "version": 3
   },
   "file_extension": ".py",
   "mimetype": "text/x-python",
   "name": "python",
   "nbconvert_exporter": "python",
   "pygments_lexer": "ipython3",
   "version": "3.11.11"
  }
 },
 "nbformat": 4,
 "nbformat_minor": 5
}
