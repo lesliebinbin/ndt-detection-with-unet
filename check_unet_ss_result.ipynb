{
 "cells": [
  {
   "cell_type": "code",
   "execution_count": null,
   "id": "46a88ebc",
   "metadata": {},
   "outputs": [],
   "source": [
    "import os\n",
    "os.environ['KERAS_BACKEND'] = 'torch'\n",
    "import keras\n",
    "from utils import create_mask_dataset\n",
    "from layers import UnetBackbone\n",
    "from utils import create_mask_dataset, bce_dice_loss, iou_coef, dice_coef"
   ]
  },
  {
   "cell_type": "code",
   "execution_count": null,
   "id": "3e8a0dfa",
   "metadata": {},
   "outputs": [],
   "source": [
    "val_ds = create_mask_dataset(\n",
    "    img_folder=\"bubble_masks/val/images\",\n",
    "    mask_folder=\"bubble_masks/val/masks\",\n",
    "    input_shape=(960, 1920, 1),\n",
    ").batch(8)"
   ]
  },
  {
   "cell_type": "code",
   "execution_count": null,
   "id": "c9a00d12",
   "metadata": {},
   "outputs": [],
   "source": [
    "model = keras.models.load_model('unet_ss_best.keras', compile=False)\n",
    "\n",
    "model.compile(\n",
    "    loss=bce_dice_loss,\n",
    "    metrics=[iou_coef, dice_coef],\n",
    ")"
   ]
  },
  {
   "cell_type": "code",
   "execution_count": null,
   "id": "ca5773bd",
   "metadata": {},
   "outputs": [],
   "source": [
    "import matplotlib.pyplot as plt\n",
    "results = model.evaluate(val_ds)"
   ]
  },
  {
   "cell_type": "code",
   "execution_count": null,
   "id": "21312977",
   "metadata": {},
   "outputs": [],
   "source": [
    "results"
   ]
  },
  {
   "cell_type": "code",
   "execution_count": null,
   "id": "69a35afb",
   "metadata": {},
   "outputs": [],
   "source": []
  }
 ],
 "metadata": {
  "kernelspec": {
   "display_name": "dh-computer-vision (3.11.11)",
   "language": "python",
   "name": "python3"
  },
  "language_info": {
   "codemirror_mode": {
    "name": "ipython",
    "version": 3
   },
   "file_extension": ".py",
   "mimetype": "text/x-python",
   "name": "python",
   "nbconvert_exporter": "python",
   "pygments_lexer": "ipython3",
   "version": "3.11.11"
  }
 },
 "nbformat": 4,
 "nbformat_minor": 5
}
