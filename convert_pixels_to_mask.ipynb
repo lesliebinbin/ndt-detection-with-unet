{
 "cells": [
  {
   "cell_type": "code",
   "execution_count": null,
   "id": "34088425",
   "metadata": {},
   "outputs": [],
   "source": [
    "import numpy as np\n",
    "import pandas as pd\n",
    "import matplotlib.pyplot as plt\n",
    "import cv2\n",
    "from pathlib import Path\n",
    "root_folder = Path(\"bubbles\")\n",
    "images_folder = root_folder / \"images\"\n",
    "labels_folder = root_folder / \"labels\"\n",
    "masks_folder = root_folder / \"masks\"\n",
    "import numpy as np\n",
    "for img_file in images_folder.iterdir():\n",
    "    img = cv2.imread(img_file, flags=cv2.IMREAD_GRAYSCALE)\n",
    "    height, width = img.shape\n",
    "    masks = np.zeros(shape=(height, width), dtype=np.int32)\n",
    "    txt_file = labels_folder / img_file.with_suffix(\".txt\").name\n",
    "    content = txt_file.read_text()\n",
    "    if content == \"\":\n",
    "        continue\n",
    "    lines = content.strip().split(\"\\n\")\n",
    "    for line in lines:\n",
    "        points = np.array(list(map(float, line.split(' ')))[1:])\n",
    "        points = points.reshape(-1, 2)\n",
    "        points[:, 0] *= width\n",
    "        points[:, 1] *= height\n",
    "        points = points.astype(np.int32)\n",
    "        print(points.shape)\n",
    "        print(masks.shape)\n",
    "        cv2.fillPoly(masks, pts=[points], color=255)\n",
    "    masks = masks.astype(np.uint8)\n",
    "    mask_file = masks_folder / img_file.name\n",
    "    cv2.imwrite(mask_file, masks)"
   ]
  },
  {
   "cell_type": "code",
   "execution_count": null,
   "id": "3052e56d",
   "metadata": {},
   "outputs": [],
   "source": []
  }
 ],
 "metadata": {
  "kernelspec": {
   "display_name": "data-cleaning (3.11.11)",
   "language": "python",
   "name": "python3"
  },
  "language_info": {
   "codemirror_mode": {
    "name": "ipython",
    "version": 3
   },
   "file_extension": ".py",
   "mimetype": "text/x-python",
   "name": "python",
   "nbconvert_exporter": "python",
   "pygments_lexer": "ipython3",
   "version": "3.11.11"
  }
 },
 "nbformat": 4,
 "nbformat_minor": 5
}
