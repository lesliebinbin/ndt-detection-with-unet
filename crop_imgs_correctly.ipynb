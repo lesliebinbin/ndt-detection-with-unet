{
 "cells": [
  {
   "cell_type": "code",
   "execution_count": null,
   "id": "ac6f5f05",
   "metadata": {},
   "outputs": [],
   "source": [
    "import numpy as np\n",
    "from PIL import Image\n",
    "def img_process(pil_img):\n",
    "    imgs = []\n",
    "    height, width = img_array.shape\n",
    "    if height > width:\n",
    "        img_array = img_array.transpose()\n",
    "    height, width, _channel = img_array.shape\n",
    "    proportion = width // height\n",
    "    for i in range(proportion):\n",
    "        imgs.append(img_array[:, height*i:height*(i+1), :])\n",
    "    \n",
    "    return imgs\n",
    "    "
   ]
  },
  {
   "cell_type": "code",
   "execution_count": 2,
   "id": "fd4981cc",
   "metadata": {},
   "outputs": [],
   "source": [
    "from pathlib import Path"
   ]
  },
  {
   "cell_type": "code",
   "execution_count": 3,
   "id": "1988fbc9",
   "metadata": {},
   "outputs": [],
   "source": [
    "src_folder = Path(\"/home/lesliebinbin/data/jpg_data_marked\")"
   ]
  },
  {
   "cell_type": "code",
   "execution_count": 4,
   "id": "fe911192",
   "metadata": {},
   "outputs": [],
   "source": [
    "imgs = [file for file in src_folder.rglob(\"**/*.jpg\")]"
   ]
  },
  {
   "cell_type": "code",
   "execution_count": 5,
   "id": "4e99308c",
   "metadata": {},
   "outputs": [],
   "source": [
    "img = imgs[0]"
   ]
  },
  {
   "cell_type": "code",
   "execution_count": 6,
   "id": "4bf02345",
   "metadata": {},
   "outputs": [],
   "source": [
    "from PIL import Image"
   ]
  },
  {
   "cell_type": "code",
   "execution_count": 7,
   "id": "0599308b",
   "metadata": {},
   "outputs": [],
   "source": [
    "image = Image.open(img)"
   ]
  },
  {
   "cell_type": "code",
   "execution_count": 8,
   "id": "7c53b0b1",
   "metadata": {},
   "outputs": [
    {
     "data": {
      "text/plain": [
       "(1828, 3625, 3)"
      ]
     },
     "execution_count": 8,
     "metadata": {},
     "output_type": "execute_result"
    }
   ],
   "source": [
    "np.array(image).shape"
   ]
  },
  {
   "cell_type": "code",
   "execution_count": null,
   "id": "2a4b3d15",
   "metadata": {},
   "outputs": [],
   "source": []
  }
 ],
 "metadata": {
  "kernelspec": {
   "display_name": "dh-computer-vision",
   "language": "python",
   "name": "python3"
  },
  "language_info": {
   "codemirror_mode": {
    "name": "ipython",
    "version": 3
   },
   "file_extension": ".py",
   "mimetype": "text/x-python",
   "name": "python",
   "nbconvert_exporter": "python",
   "pygments_lexer": "ipython3",
   "version": "3.11.11"
  }
 },
 "nbformat": 4,
 "nbformat_minor": 5
}
