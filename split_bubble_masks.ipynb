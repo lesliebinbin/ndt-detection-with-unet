{
 "cells": [
  {
   "cell_type": "code",
   "execution_count": null,
   "id": "1ca276b4",
   "metadata": {},
   "outputs": [],
   "source": [
    "from pathlib import Path"
   ]
  },
  {
   "cell_type": "code",
   "execution_count": null,
   "id": "c98b95d3",
   "metadata": {},
   "outputs": [],
   "source": [
    "root_dir = Path(\"bubble_masks\")\n",
    "images_dir = root_dir / \"images\"\n",
    "masks_dir = root_dir / \"masks\""
   ]
  },
  {
   "cell_type": "code",
   "execution_count": null,
   "id": "bee08aec",
   "metadata": {},
   "outputs": [],
   "source": [
    "img_stems = []\n",
    "for img_file in images_dir.iterdir():\n",
    "    img_stems.append(img_file.stem)"
   ]
  },
  {
   "cell_type": "code",
   "execution_count": null,
   "id": "0bff7807",
   "metadata": {},
   "outputs": [],
   "source": []
  },
  {
   "cell_type": "code",
   "execution_count": null,
   "id": "a2266833",
   "metadata": {},
   "outputs": [],
   "source": [
    "from sklearn.model_selection import train_test_split\n",
    "train_stems, _ = train_test_split(img_stems, test_size=.25)"
   ]
  },
  {
   "cell_type": "code",
   "execution_count": null,
   "id": "62171ffc",
   "metadata": {},
   "outputs": [],
   "source": [
    "train_stems"
   ]
  },
  {
   "cell_type": "code",
   "execution_count": null,
   "id": "00142a15",
   "metadata": {},
   "outputs": [],
   "source": [
    "for train_stem in train_stems:\n",
    "    train_img = root_dir / \"train\" / \"images\" / f\"{train_stem}.jpg\"\n",
    "    train_mask = root_dir / \"train\" / \"masks\" / f\"{train_stem}.jpg\"\n",
    "    train_img.parent.mkdir(exist_ok=True, parents=True)\n",
    "    train_mask.parent.mkdir(exist_ok=True, parents=True)\n",
    "    origin_img = images_dir / f\"{train_stem}.jpg\"\n",
    "    origin_mask = masks_dir / f\"{train_stem}.jpg\" \n",
    "    assert origin_img.exists() and origin_mask.exists()\n",
    "    print(train_img)\n",
    "    print(train_mask)\n",
    "    origin_img.rename(train_img)\n",
    "    origin_mask.rename(train_mask)"
   ]
  },
  {
   "cell_type": "code",
   "execution_count": null,
   "id": "b128b68c",
   "metadata": {},
   "outputs": [],
   "source": []
  }
 ],
 "metadata": {
  "kernelspec": {
   "display_name": "dh-computer-vision (3.11.11)",
   "language": "python",
   "name": "python3"
  },
  "language_info": {
   "codemirror_mode": {
    "name": "ipython",
    "version": 3
   },
   "file_extension": ".py",
   "mimetype": "text/x-python",
   "name": "python",
   "nbconvert_exporter": "python",
   "pygments_lexer": "ipython3",
   "version": "3.11.11"
  }
 },
 "nbformat": 4,
 "nbformat_minor": 5
}
