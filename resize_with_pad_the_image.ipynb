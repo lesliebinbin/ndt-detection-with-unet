{
 "cells": [
  {
   "cell_type": "code",
   "execution_count": null,
   "id": "7616e841",
   "metadata": {},
   "outputs": [],
   "source": [
    "from utils import resize_with_pad\n",
    "from pathlib import Path"
   ]
  },
  {
   "cell_type": "code",
   "execution_count": null,
   "id": "65c53d51",
   "metadata": {},
   "outputs": [],
   "source": [
    "from PIL import Image\n",
    "import numpy as np\n",
    "src_image_folder = Path(\"valid-versus-invalid\")\n",
    "tgt_image_folder = Path(\"valid-versus-invalid-padded\")\n",
    "import matplotlib.pyplot as plt\n",
    "for img in src_image_folder.rglob(\"**/*.jpg\"):\n",
    "    resized_img = resize_with_pad(np.array(Image.open(img)))\n",
    "    tgt_path = tgt_image_folder / img.relative_to(src_image_folder)\n",
    "    tgt_path.parent.mkdir(exist_ok=True, parents=True)\n",
    "    Image.fromarray(resized_img).save(tgt_path)\n",
    "    plt.axis(\"off\")\n",
    "    plt.title(img.name)\n",
    "    plt.imshow(resized_img)\n",
    "    plt.show()"
   ]
  },
  {
   "cell_type": "code",
   "execution_count": null,
   "id": "927dfa85",
   "metadata": {},
   "outputs": [],
   "source": []
  }
 ],
 "metadata": {
  "kernelspec": {
   "display_name": "dh-computer-vision (3.11.11)",
   "language": "python",
   "name": "python3"
  },
  "language_info": {
   "codemirror_mode": {
    "name": "ipython",
    "version": 3
   },
   "file_extension": ".py",
   "mimetype": "text/x-python",
   "name": "python",
   "nbconvert_exporter": "python",
   "pygments_lexer": "ipython3",
   "version": "3.11.11"
  }
 },
 "nbformat": 4,
 "nbformat_minor": 5
}
