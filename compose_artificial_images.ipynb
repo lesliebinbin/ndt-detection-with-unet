{
 "cells": [
  {
   "cell_type": "code",
   "execution_count": null,
   "id": "7be4c2aa",
   "metadata": {},
   "outputs": [],
   "source": [
    "\n",
    "from pathlib import Path\n",
    "import shutil\n",
    "src_folder = Path(\"dcm_official\")"
   ]
  },
  {
   "cell_type": "code",
   "execution_count": null,
   "id": "522e61a3",
   "metadata": {},
   "outputs": [],
   "source": [
    "from utils import create_custom_three_channel_img, create_artificial_images"
   ]
  },
  {
   "cell_type": "code",
   "execution_count": null,
   "id": "bc63d765",
   "metadata": {},
   "outputs": [],
   "source": [
    "tgt_folder = Path(\"artificial_images\")\n",
    "tgt_folder.mkdir(exist_ok=True)"
   ]
  },
  {
   "cell_type": "code",
   "execution_count": null,
   "id": "ed7ea2a6",
   "metadata": {},
   "outputs": [],
   "source": [
    "import json\n",
    "with open(\"labels_config.json\", 'r') as f:\n",
    "    config = json.load(f)\n",
    "\n",
    "en_config, zh_config = config['en'], config['zh']\n",
    "\n",
    "\n",
    "labels_map = {}\n",
    "for k in zh_config:\n",
    "    labels_map[zh_config[k]] = en_config[k]\n",
    "\n",
    "labels_map['合格'] = 'valid'"
   ]
  },
  {
   "cell_type": "code",
   "execution_count": null,
   "id": "1dfdb17a",
   "metadata": {},
   "outputs": [],
   "source": [
    "import matplotlib.pyplot as plt\n",
    "from PIL import Image\n",
    "files = [file for file in src_folder.rglob(\"**/*.dcm\")]"
   ]
  },
  {
   "cell_type": "code",
   "execution_count": null,
   "id": "7ca568c6",
   "metadata": {},
   "outputs": [],
   "source": [
    "files.extend(file for file in src_folder.rglob(\"**/*.DCM\"))"
   ]
  },
  {
   "cell_type": "code",
   "execution_count": null,
   "id": "c442a8fa",
   "metadata": {},
   "outputs": [],
   "source": [
    "len(files)"
   ]
  },
  {
   "cell_type": "code",
   "execution_count": 8,
   "id": "0515b8e0",
   "metadata": {},
   "outputs": [
    {
     "name": "stdout",
     "output_type": "stream",
     "text": [
      "dcm_official/泰思特/0213.001-N603-9-6-1-条形缺陷-圆形缺陷.DCM\n",
      "dcm_official/金陵/1701-060-9093-003-C399-66-1-2-未熔合-圆形缺陷.DCM\n",
      "dcm_official/金陵/4305-061-2210-001-X310-12-5-6-裂纹.DCM\n",
      "dcm_official/金陵/1253-016-EV031B10B002-FPP01-6-1-2-裂纹.DCM\n"
     ]
    },
    {
     "ename": "FileNotFoundError",
     "evalue": "[Errno 2] No such file or directory: 'dcm_official/金陵/1101-003-EV031B10B002-FPP01-9G-3-4-条形缺陷.DCM'",
     "output_type": "error",
     "traceback": [
      "\u001b[31m---------------------------------------------------------------------------\u001b[39m",
      "\u001b[31mFileNotFoundError\u001b[39m                         Traceback (most recent call last)",
      "\u001b[36mCell\u001b[39m\u001b[36m \u001b[39m\u001b[32mIn[8]\u001b[39m\u001b[32m, line 12\u001b[39m\n\u001b[32m     10\u001b[39m tgt_path = tgt_folder / label / file.with_suffix(\u001b[33m\"\u001b[39m\u001b[33m.jpg\u001b[39m\u001b[33m\"\u001b[39m).name\n\u001b[32m     11\u001b[39m tgt_path.parent.mkdir(exist_ok=\u001b[38;5;28;01mTrue\u001b[39;00m, parents=\u001b[38;5;28;01mTrue\u001b[39;00m)\n\u001b[32m---> \u001b[39m\u001b[32m12\u001b[39m artificial_img = \u001b[43mcreate_artificial_images\u001b[49m\u001b[43m(\u001b[49m\u001b[43mfile\u001b[49m\u001b[43m)\u001b[49m\n\u001b[32m     13\u001b[39m img = Image.fromarray(artificial_img)\n\u001b[32m     14\u001b[39m img.save(tgt_path)\n",
      "\u001b[36mFile \u001b[39m\u001b[32m~/codings/github-dh-cv/utils/image_crop.py:65\u001b[39m, in \u001b[36mcreate_artificial_images\u001b[39m\u001b[34m(dcm_path)\u001b[39m\n\u001b[32m     64\u001b[39m \u001b[38;5;28;01mdef\u001b[39;00m\u001b[38;5;250m \u001b[39m\u001b[34mcreate_artificial_images\u001b[39m(dcm_path: Path):\n\u001b[32m---> \u001b[39m\u001b[32m65\u001b[39m     origin_image = \u001b[43mremove_white_theshold\u001b[49m\u001b[43m(\u001b[49m\u001b[43mdcm_path\u001b[49m\u001b[43m)\u001b[49m[\u001b[32m0\u001b[39m]\n\u001b[32m     66\u001b[39m     windowed_center = origin_image.mean()\n\u001b[32m     67\u001b[39m     windowed_std = origin_image.std()\n",
      "\u001b[36mFile \u001b[39m\u001b[32m~/codings/github-dh-cv/utils/image_crop.py:18\u001b[39m, in \u001b[36mremove_white_theshold\u001b[39m\u001b[34m(image, padding, low_threshold_ratio, high_threshold_ratio)\u001b[39m\n\u001b[32m     16\u001b[39m     img = np.array(Image.open(image))\n\u001b[32m     17\u001b[39m \u001b[38;5;28;01melif\u001b[39;00m image.suffix.lower() == \u001b[33m\"\u001b[39m\u001b[33m.dcm\u001b[39m\u001b[33m\"\u001b[39m:\n\u001b[32m---> \u001b[39m\u001b[32m18\u001b[39m     img = \u001b[43mdcmread\u001b[49m\u001b[43m(\u001b[49m\u001b[43mimage\u001b[49m\u001b[43m)\u001b[49m.pixel_array\n\u001b[32m     19\u001b[39m \u001b[38;5;28;01melse\u001b[39;00m:\n\u001b[32m     20\u001b[39m     \u001b[38;5;28;01mraise\u001b[39;00m \u001b[38;5;167;01mValueError\u001b[39;00m(\u001b[33m\"\u001b[39m\u001b[33mUnsupported file format\u001b[39m\u001b[33m\"\u001b[39m)\n",
      "\u001b[36mFile \u001b[39m\u001b[32m~/codings/github-dh-cv/.venv/lib/python3.11/site-packages/pydicom/filereader.py:1042\u001b[39m, in \u001b[36mdcmread\u001b[39m\u001b[34m(fp, defer_size, stop_before_pixels, force, specific_tags)\u001b[39m\n\u001b[32m   1040\u001b[39m     caller_owns_file = \u001b[38;5;28;01mFalse\u001b[39;00m\n\u001b[32m   1041\u001b[39m     logger.debug(\u001b[33mf\u001b[39m\u001b[33m\"\u001b[39m\u001b[33mReading file \u001b[39m\u001b[33m'\u001b[39m\u001b[38;5;132;01m{\u001b[39;00mfp\u001b[38;5;132;01m}\u001b[39;00m\u001b[33m'\u001b[39m\u001b[33m\"\u001b[39m)\n\u001b[32m-> \u001b[39m\u001b[32m1042\u001b[39m     fp = \u001b[38;5;28mopen\u001b[39m(fp, \u001b[33m\"\u001b[39m\u001b[33mrb\u001b[39m\u001b[33m\"\u001b[39m)\n\u001b[32m   1043\u001b[39m \u001b[38;5;28;01melif\u001b[39;00m (\n\u001b[32m   1044\u001b[39m     fp \u001b[38;5;129;01mis\u001b[39;00m \u001b[38;5;28;01mNone\u001b[39;00m\n\u001b[32m   1045\u001b[39m     \u001b[38;5;129;01mor\u001b[39;00m \u001b[38;5;129;01mnot\u001b[39;00m \u001b[38;5;28mhasattr\u001b[39m(fp, \u001b[33m\"\u001b[39m\u001b[33mread\u001b[39m\u001b[33m\"\u001b[39m)\n\u001b[32m   1046\u001b[39m     \u001b[38;5;129;01mor\u001b[39;00m \u001b[38;5;129;01mnot\u001b[39;00m \u001b[38;5;28mhasattr\u001b[39m(fp, \u001b[33m\"\u001b[39m\u001b[33mseek\u001b[39m\u001b[33m\"\u001b[39m)\n\u001b[32m   1047\u001b[39m     \u001b[38;5;129;01mor\u001b[39;00m \u001b[38;5;129;01mnot\u001b[39;00m \u001b[38;5;28mhasattr\u001b[39m(fp, \u001b[33m\"\u001b[39m\u001b[33mtell\u001b[39m\u001b[33m\"\u001b[39m)\n\u001b[32m   1048\u001b[39m ):\n\u001b[32m   1049\u001b[39m     \u001b[38;5;28;01mraise\u001b[39;00m \u001b[38;5;167;01mTypeError\u001b[39;00m(\n\u001b[32m   1050\u001b[39m         \u001b[33m\"\u001b[39m\u001b[33mdcmread: Expected a file path, file-like or readable buffer, \u001b[39m\u001b[33m\"\u001b[39m\n\u001b[32m   1051\u001b[39m         \u001b[33mf\u001b[39m\u001b[33m\"\u001b[39m\u001b[33mbut got \u001b[39m\u001b[38;5;132;01m{\u001b[39;00m\u001b[38;5;28mtype\u001b[39m(fp).\u001b[34m__name__\u001b[39m\u001b[38;5;132;01m}\u001b[39;00m\u001b[33m\"\u001b[39m\n\u001b[32m   1052\u001b[39m     )\n",
      "\u001b[31mFileNotFoundError\u001b[39m: [Errno 2] No such file or directory: 'dcm_official/金陵/1101-003-EV031B10B002-FPP01-9G-3-4-条形缺陷.DCM'"
     ]
    }
   ],
   "source": [
    "from utils import create_custom_three_channel_img\n",
    "import matplotlib.pyplot as plt\n",
    "for file in files:\n",
    "    labels = []\n",
    "    for label in labels_map:\n",
    "        if label in str(file.absolute()):\n",
    "            labels.append(label)\n",
    "    if len(labels) == 1:\n",
    "        label = labels_map[labels[0]]\n",
    "        tgt_path = tgt_folder / label / file.with_suffix(\".jpg\").name\n",
    "        tgt_path.parent.mkdir(exist_ok=True, parents=True)\n",
    "        artificial_img = create_artificial_images(file)\n",
    "        img = Image.fromarray(artificial_img)\n",
    "        img.save(tgt_path)\n",
    "    else:\n",
    "        print(file)"
   ]
  },
  {
   "cell_type": "code",
   "execution_count": null,
   "id": "87e430a7",
   "metadata": {},
   "outputs": [],
   "source": []
  }
 ],
 "metadata": {
  "kernelspec": {
   "display_name": "dh-computer-vision (3.11.11)",
   "language": "python",
   "name": "python3"
  },
  "language_info": {
   "codemirror_mode": {
    "name": "ipython",
    "version": 3
   },
   "file_extension": ".py",
   "mimetype": "text/x-python",
   "name": "python",
   "nbconvert_exporter": "python",
   "pygments_lexer": "ipython3",
   "version": "3.11.11"
  }
 },
 "nbformat": 4,
 "nbformat_minor": 5
}
