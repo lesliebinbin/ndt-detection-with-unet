{
 "cells": [
  {
   "cell_type": "code",
   "execution_count": null,
   "id": "4654ba13",
   "metadata": {},
   "outputs": [],
   "source": [
    "from pathlib import Path"
   ]
  },
  {
   "cell_type": "code",
   "execution_count": null,
   "id": "39f2b9a8",
   "metadata": {},
   "outputs": [],
   "source": [
    "root = Path('pure_data_set')"
   ]
  },
  {
   "cell_type": "code",
   "execution_count": null,
   "id": "41a12883",
   "metadata": {},
   "outputs": [],
   "source": [
    "folder_names = [f.name for f in root.iterdir() if f.is_dir()]"
   ]
  },
  {
   "cell_type": "code",
   "execution_count": null,
   "id": "61acf38c",
   "metadata": {},
   "outputs": [],
   "source": [
    "folder_names.append('未焊透')"
   ]
  },
  {
   "cell_type": "code",
   "execution_count": null,
   "id": "9fea2e65",
   "metadata": {},
   "outputs": [],
   "source": [
    "folder_names"
   ]
  },
  {
   "cell_type": "code",
   "execution_count": null,
   "id": "62e80e3e",
   "metadata": {},
   "outputs": [],
   "source": [
    "tgt_folder = Path('extra_images')"
   ]
  },
  {
   "cell_type": "code",
   "execution_count": null,
   "id": "d1c69221",
   "metadata": {},
   "outputs": [],
   "source": [
    "tgt_folder.exists()"
   ]
  },
  {
   "cell_type": "code",
   "execution_count": null,
   "id": "57ae0862",
   "metadata": {},
   "outputs": [],
   "source": [
    "for f in tgt_folder.rglob('**/*'):\n",
    "    if f.is_file():\n",
    "        print(f)\n",
    "        matched_class = None\n",
    "        for tag in folder_names:\n",
    "            if tag in f.name:\n",
    "                matched_class = tag\n",
    "                break\n",
    "        if matched_class:\n",
    "            rel_path = f.relative_to(tgt_folder)\n",
    "            new_path = root / matched_class / rel_path\n",
    "            new_path = new_path.with_suffix('.dcm')\n",
    "            new_path.parent.mkdir(parents=True, exist_ok=True)\n",
    "            f.rename(new_path)\n",
    "\n",
    "        "
   ]
  },
  {
   "cell_type": "code",
   "execution_count": null,
   "id": "01ed4798",
   "metadata": {},
   "outputs": [],
   "source": []
  },
  {
   "cell_type": "code",
   "execution_count": null,
   "id": "670f0061",
   "metadata": {},
   "outputs": [],
   "source": []
  }
 ],
 "metadata": {
  "kernelspec": {
   "display_name": "dh-computer-vision",
   "language": "python",
   "name": "python3"
  },
  "language_info": {
   "codemirror_mode": {
    "name": "ipython",
    "version": 3
   },
   "file_extension": ".py",
   "mimetype": "text/x-python",
   "name": "python",
   "nbconvert_exporter": "python",
   "pygments_lexer": "ipython3",
   "version": "3.11.11"
  }
 },
 "nbformat": 4,
 "nbformat_minor": 5
}
