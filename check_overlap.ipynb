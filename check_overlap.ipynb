{
 "cells": [
  {
   "cell_type": "code",
   "execution_count": null,
   "id": "4a54ebb0",
   "metadata": {},
   "outputs": [],
   "source": [
    "from utils import img_slices_coords, rotate_normalized_coords, calculate_overlap"
   ]
  },
  {
   "cell_type": "code",
   "execution_count": null,
   "id": "11e10419",
   "metadata": {},
   "outputs": [],
   "source": [
    "from PIL import Image"
   ]
  },
  {
   "cell_type": "code",
   "execution_count": null,
   "id": "92c7d13d",
   "metadata": {},
   "outputs": [],
   "source": []
  },
  {
   "cell_type": "code",
   "execution_count": 19,
   "id": "9a325897",
   "metadata": {},
   "outputs": [],
   "source": [
    "labels = {\n",
    "    \"圆形\": \"circle\",\n",
    "    \"未熔合\": \"lack_of_fusion\",\n",
    "    \"未焊透\": \"lack_of_penetration\",\n",
    "    \"条形\": \"line\",\n",
    "    \"内凹\": \"pit\",\n",
    "    \"咬边\": \"undercut\",\n",
    "}"
   ]
  },
  {
   "cell_type": "code",
   "execution_count": null,
   "id": "7b38608d",
   "metadata": {},
   "outputs": [],
   "source": []
  },
  {
   "cell_type": "code",
   "execution_count": 20,
   "id": "40e3c68d",
   "metadata": {},
   "outputs": [],
   "source": [
    "labels = list(labels.values())"
   ]
  },
  {
   "cell_type": "code",
   "execution_count": 21,
   "id": "2620469a",
   "metadata": {},
   "outputs": [
    {
     "data": {
      "text/plain": [
       "['circle', 'lack_of_fusion', 'lack_of_penetration', 'line', 'pit', 'undercut']"
      ]
     },
     "execution_count": 21,
     "metadata": {},
     "output_type": "execute_result"
    }
   ],
   "source": [
    "labels"
   ]
  },
  {
   "cell_type": "code",
   "execution_count": null,
   "id": "c5f6fa92",
   "metadata": {},
   "outputs": [],
   "source": [
    "from pathlib import Path\n",
    "root_path = Path(\"dataset\")\n",
    "train_origin_path = root_path / \"train-origin\"\n",
    "valid_origin_path = root_path / \"valid-origin\"\n",
    "train_path = root_path / \"train\"\n",
    "valid_path = root_path / \"valid\""
   ]
  },
  {
   "cell_type": "code",
   "execution_count": null,
   "id": "f818a6f6",
   "metadata": {},
   "outputs": [],
   "source": [
    "train_origin_files = set([file.stem for file in train_origin_path.rglob(\"**/*.jpg\")])\n",
    "valid_origin_files = set([file.stem for file in valid_origin_path.rglob(\"**/*.jpg\")])"
   ]
  },
  {
   "cell_type": "code",
   "execution_count": null,
   "id": "ad3a11f7",
   "metadata": {},
   "outputs": [],
   "source": [
    "assert len(train_origin_files & valid_origin_files) == 0"
   ]
  },
  {
   "cell_type": "code",
   "execution_count": null,
   "id": "0ef260df",
   "metadata": {},
   "outputs": [],
   "source": [
    "import numpy as np\n",
    "from utils import img_slices_coords,calculate_overlap\n",
    "index = 0\n",
    "from collections import defaultdict\n",
    "train_coll = defaultdict(list)\n",
    "for img_file in train_origin_path.rglob(\"**/*.jpg\"):\n",
    "    label = img_file.parent.name\n",
    "    txt_file = img_file.with_suffix(\".txt\")\n",
    "    img = Image.open(img_file)\n",
    "    slices_coords = img_slices_coords(img, step_size=8)\n",
    "    bounding_boxes = []\n",
    "    for line in txt_file.read_text().strip().split(\"\\n\"):\n",
    "        bounding_boxes.append(list(map(float, line.split(\" \")[1:])))\n",
    "    for bounding_box in bounding_boxes:\n",
    "        for slice_coords in slices_coords:\n",
    "            ratio = calculate_overlap(img, slice_coords, bounding_box)\n",
    "            cropped_img = img.crop(slice_coords).resize((512, 512))\n",
    "            if ratio >.7:\n",
    "                label_idx = labels.index(label)\n",
    "                one_hot = np.zeros(len(labels)).astype('float32')\n",
    "                one_hot[label_idx] = ratio\n",
    "                one_hot += (1 - ratio) / len(labels)\n",
    "                train_coll[index].append((np.array(cropped_img), one_hot))\n",
    "    index += 1\n",
    "\n",
    "\n",
    "    \n",
    "\n",
    "\n",
    "\n"
   ]
  },
  {
   "cell_type": "code",
   "execution_count": null,
   "id": "81e1a526",
   "metadata": {},
   "outputs": [],
   "source": []
  },
  {
   "cell_type": "code",
   "execution_count": null,
   "id": "2770309c",
   "metadata": {},
   "outputs": [],
   "source": [
    "import numpy as np\n",
    "from utils import img_slices_coords,calculate_overlap\n",
    "index = 0\n",
    "from collections import defaultdict\n",
    "valid_coll = defaultdict(list)\n",
    "for img_file in valid_origin_path.rglob(\"**/*.jpg\"):\n",
    "    label = img_file.parent.name\n",
    "    txt_file = img_file.with_suffix(\".txt\")\n",
    "    img = Image.open(img_file)\n",
    "    slices_coords = img_slices_coords(img, step_size=8)\n",
    "    bounding_boxes = []\n",
    "    for line in txt_file.read_text().strip().split(\"\\n\"):\n",
    "        bounding_boxes.append(list(map(float, line.split(\" \")[1:])))\n",
    "    for bounding_box in bounding_boxes:\n",
    "        for slice_coords in slices_coords:\n",
    "            ratio = calculate_overlap(img, slice_coords, bounding_box)\n",
    "            cropped_img = img.crop(slice_coords).resize((512, 512))\n",
    "            if ratio >.7:\n",
    "                label_idx = labels.index(label)\n",
    "                one_hot = np.zeros(len(labels)).astype('float32')\n",
    "                one_hot[label_idx] = ratio\n",
    "                one_hot += (1 - ratio) / len(labels)\n",
    "                valid_coll[index].append((np.array(cropped_img), one_hot))\n",
    "    index += 1\n",
    "\n",
    "\n",
    "    \n",
    "\n",
    "\n",
    "\n"
   ]
  },
  {
   "cell_type": "code",
   "execution_count": null,
   "id": "eb3da578",
   "metadata": {},
   "outputs": [],
   "source": [
    "train_coll"
   ]
  },
  {
   "cell_type": "code",
   "execution_count": null,
   "id": "b1ae0e61",
   "metadata": {},
   "outputs": [],
   "source": [
    "train_coll.keys()"
   ]
  },
  {
   "cell_type": "code",
   "execution_count": null,
   "id": "a57863fb",
   "metadata": {},
   "outputs": [],
   "source": [
    "train_coll[1][0]"
   ]
  },
  {
   "cell_type": "code",
   "execution_count": null,
   "id": "ec17008b",
   "metadata": {},
   "outputs": [],
   "source": [
    "train_folder = Path(\"dataset/train\")\n",
    "valid_folder = Path(\"dataset/valid\")"
   ]
  },
  {
   "cell_type": "code",
   "execution_count": null,
   "id": "8b4b35d6",
   "metadata": {},
   "outputs": [],
   "source": [
    "train_folder.exists()"
   ]
  },
  {
   "cell_type": "code",
   "execution_count": null,
   "id": "71be6130",
   "metadata": {},
   "outputs": [],
   "source": [
    "valid_folder.exists()"
   ]
  },
  {
   "cell_type": "code",
   "execution_count": null,
   "id": "c26950b3",
   "metadata": {},
   "outputs": [],
   "source": [
    "for k, v in train_coll.items():\n",
    "    for index, (img, label) in enumerate(v):\n",
    "        file_name = train_folder / f\"{k}_{index}.npz\"\n",
    "        np.savez(file_name, image=img, label=label)"
   ]
  },
  {
   "cell_type": "code",
   "execution_count": null,
   "id": "86e48a6b",
   "metadata": {},
   "outputs": [],
   "source": [
    "for k, v in valid_coll.items():\n",
    "    for index, (img, label) in enumerate(v):\n",
    "        file_name = valid_folder / f\"{k}_{index}.npz\"\n",
    "        np.savez(file_name, image=img, label=label)"
   ]
  },
  {
   "cell_type": "code",
   "execution_count": null,
   "id": "2711f98b",
   "metadata": {},
   "outputs": [],
   "source": []
  }
 ],
 "metadata": {
  "kernelspec": {
   "display_name": "dh-computer-vision (3.11.11)",
   "language": "python",
   "name": "python3"
  },
  "language_info": {
   "codemirror_mode": {
    "name": "ipython",
    "version": 3
   },
   "file_extension": ".py",
   "mimetype": "text/x-python",
   "name": "python",
   "nbconvert_exporter": "python",
   "pygments_lexer": "ipython3",
   "version": "3.11.11"
  }
 },
 "nbformat": 4,
 "nbformat_minor": 5
}
