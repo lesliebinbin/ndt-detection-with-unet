{
 "cells": [
  {
   "cell_type": "code",
   "execution_count": null,
   "id": "f2a01384",
   "metadata": {},
   "outputs": [],
   "source": [
    "import os\n",
    "\n",
    "os.environ[\"KERAS_BACKEND\"] = \"jax\"\n",
    "import keras\n",
    "import numpy as np\n",
    "import io\n",
    "import numpy as np\n",
    "import tensorflow as tf\n",
    "import matplotlib.pyplot as plt\n",
    "from tensorflow import keras\n",
    "\n",
    "epochs = 100\n",
    "\n",
    "\n",
    "\n",
    "\n",
    "import numpy as np\n",
    "from keras.utils import image_dataset_from_directory\n",
    "\n",
    "\n",
    "# Load datasets using Keras utilities\n",
    "batch_size = 32\n",
    "img_size = (1920, 1920)\n",
    "\n",
    "\n",
    "\n",
    "val_ds = image_dataset_from_directory(\n",
    "    \"valid-versus-invalid/valid\",\n",
    "    label_mode=\"categorical\",\n",
    "    image_size=img_size,\n",
    "    batch_size=batch_size,\n",
    "    color_mode=\"grayscale\",\n",
    "    pad_to_aspect_ratio=True,\n",
    ")"
   ]
  },
  {
   "cell_type": "code",
   "execution_count": null,
   "id": "ccbf5b71",
   "metadata": {},
   "outputs": [],
   "source": [
    "model = keras.models.load_model('models/valid-v-invalid.keras', compile=False)\n",
    "model.compile(\n",
    "    loss=keras.losses.CategoricalCrossentropy(), \n",
    "    metrics=[keras.metrics.CategoricalAccuracy(name=\"acc\")],\n",
    ")\n",
    "print(model.evaluate(val_ds, verbose=1))"
   ]
  },
  {
   "cell_type": "code",
   "execution_count": null,
   "id": "b6f8834b",
   "metadata": {},
   "outputs": [],
   "source": [
    "model = keras.models.load_model('models/valid-versus-invalid_best_val_loss.keras', compile=False)\n",
    "model.compile(\n",
    "    loss=keras.losses.CategoricalCrossentropy(), \n",
    "    metrics=[keras.metrics.CategoricalAccuracy(name=\"acc\")],\n",
    ")\n",
    "print(model.evaluate(val_ds, verbose=1))"
   ]
  },
  {
   "cell_type": "code",
   "execution_count": null,
   "id": "aef9c64d",
   "metadata": {},
   "outputs": [],
   "source": [
    "val_ds.class_names"
   ]
  },
  {
   "cell_type": "code",
   "execution_count": null,
   "id": "367aff59",
   "metadata": {},
   "outputs": [],
   "source": [
    "model.layers"
   ]
  },
  {
   "cell_type": "code",
   "execution_count": null,
   "id": "0204f1fe",
   "metadata": {},
   "outputs": [],
   "source": [
    "rescaling_layer = model.get_layer(name='rescaling_layer')\n",
    "image_net_layer = model.get_layer(name='resnet_18_imagenet')\n",
    "gap_layer = model.get_layer(name='global_average_pooling2d')\n",
    "dense_layer = model.get_layer(name='dense')"
   ]
  },
  {
   "cell_type": "code",
   "execution_count": null,
   "id": "e77b3b0e",
   "metadata": {},
   "outputs": [],
   "source": [
    "image_net_layer.summary()"
   ]
  },
  {
   "cell_type": "code",
   "execution_count": null,
   "id": "f639f0a0",
   "metadata": {},
   "outputs": [],
   "source": [
    "import keras_hub"
   ]
  },
  {
   "cell_type": "code",
   "execution_count": null,
   "id": "757d3929",
   "metadata": {},
   "outputs": [],
   "source": [
    "new_backbone = keras_hub.models.ResNetBackbone.from_preset(preset='resnet_18_imagenet', load_weights=False, image_shape=(640, 640, 1))"
   ]
  },
  {
   "cell_type": "code",
   "execution_count": null,
   "id": "8e1d72f6",
   "metadata": {},
   "outputs": [],
   "source": [
    "new_backbone.summary()"
   ]
  },
  {
   "cell_type": "code",
   "execution_count": null,
   "id": "cb556107",
   "metadata": {},
   "outputs": [],
   "source": [
    "for old_layer, new_layer in zip(image_net_layer.layers, new_backbone.layers):\n",
    "    if old_layer.name == new_layer.name and old_layer.trainable and new_layer.trainable:\n",
    "        new_layer.set_weights(old_layer.get_weights())\n",
    "        print(old_layer.name)"
   ]
  },
  {
   "cell_type": "code",
   "execution_count": null,
   "id": "cd62f377",
   "metadata": {},
   "outputs": [],
   "source": []
  }
 ],
 "metadata": {
  "kernelspec": {
   "display_name": "dh-computer-vision (3.11.11)",
   "language": "python",
   "name": "python3"
  },
  "language_info": {
   "codemirror_mode": {
    "name": "ipython",
    "version": 3
   },
   "file_extension": ".py",
   "mimetype": "text/x-python",
   "name": "python",
   "nbconvert_exporter": "python",
   "pygments_lexer": "ipython3",
   "version": "3.11.11"
  }
 },
 "nbformat": 4,
 "nbformat_minor": 5
}
