{
 "cells": [
  {
   "cell_type": "code",
   "execution_count": null,
   "id": "5b33e78a",
   "metadata": {},
   "outputs": [],
   "source": [
    "from pathlib import Path"
   ]
  },
  {
   "cell_type": "code",
   "execution_count": null,
   "id": "1eb98687",
   "metadata": {},
   "outputs": [],
   "source": [
    "valid_images_folder = Path(\"valid-versus-invalid\") / \"valid-edge\"\n",
    "invalid_images_folder = Path(\"valid-versus-invalid\") / \"invalid-edge\""
   ]
  },
  {
   "cell_type": "code",
   "execution_count": null,
   "id": "2b3f9342",
   "metadata": {},
   "outputs": [],
   "source": [
    "assert valid_images_folder.exists()\n",
    "assert invalid_images_folder.exists()"
   ]
  },
  {
   "cell_type": "code",
   "execution_count": null,
   "id": "c4225c32",
   "metadata": {},
   "outputs": [],
   "source": [
    "valid_img_files = [file for file in valid_images_folder.iterdir()]\n",
    "invalid_img_files = [file for file in invalid_images_folder.iterdir()]"
   ]
  },
  {
   "cell_type": "code",
   "execution_count": null,
   "id": "0dda88be",
   "metadata": {},
   "outputs": [],
   "source": [
    "len(valid_img_files), len(invalid_img_files)"
   ]
  },
  {
   "cell_type": "code",
   "execution_count": null,
   "id": "6f6330c8",
   "metadata": {},
   "outputs": [],
   "source": [
    "from sklearn.model_selection import train_test_split"
   ]
  },
  {
   "cell_type": "code",
   "execution_count": null,
   "id": "21f2a92f",
   "metadata": {},
   "outputs": [],
   "source": [
    "valid_imgs_train, _ = train_test_split(valid_img_files, test_size=.25)\n",
    "invalid_imgs_train, _ = train_test_split(invalid_img_files, test_size=.25)"
   ]
  },
  {
   "cell_type": "code",
   "execution_count": null,
   "id": "45abdbe5",
   "metadata": {},
   "outputs": [],
   "source": [
    "valid_imgs_train"
   ]
  },
  {
   "cell_type": "code",
   "execution_count": null,
   "id": "68e36544",
   "metadata": {},
   "outputs": [],
   "source": [
    "invalid_imgs_train"
   ]
  },
  {
   "cell_type": "code",
   "execution_count": null,
   "id": "00ed5824",
   "metadata": {},
   "outputs": [],
   "source": [
    "for file in valid_imgs_train:\n",
    "    tgt_file_name = file.name.split(\"_jpg\")[0]\n",
    "    if not tgt_file_name.endswith(\".jpg\"):\n",
    "        print(tgt_file_name)\n",
    "        tgt_file_name = f\"{tgt_file_name}.jpg\"\n",
    "    tgt_path = Path(\"valid-versus-invalid\") / \"train\" / \"valid-edge\" / tgt_file_name\n",
    "    tgt_path.parent.mkdir(exist_ok=True, parents=True)\n",
    "    file.rename(tgt_path)\n",
    "\n",
    "for file in invalid_imgs_train:\n",
    "    tgt_file_name = file.name.split(\"_jpg\")[0]\n",
    "    if not tgt_file_name.endswith(\".jpg\"):\n",
    "        print(tgt_file_name)\n",
    "        tgt_file_name = f\"{tgt_file_name}.jpg\"\n",
    "    tgt_path = Path(\"valid-versus-invalid\") / \"train\" / \"invalid-edge\" / tgt_file_name\n",
    "    tgt_path.parent.mkdir(exist_ok=True, parents=True)\n",
    "    file.rename(tgt_path)"
   ]
  },
  {
   "cell_type": "code",
   "execution_count": null,
   "id": "ad7a6659",
   "metadata": {},
   "outputs": [],
   "source": []
  }
 ],
 "metadata": {
  "kernelspec": {
   "display_name": "dh-computer-vision (3.11.11)",
   "language": "python",
   "name": "python3"
  },
  "language_info": {
   "codemirror_mode": {
    "name": "ipython",
    "version": 3
   },
   "file_extension": ".py",
   "mimetype": "text/x-python",
   "name": "python",
   "nbconvert_exporter": "python",
   "pygments_lexer": "ipython3",
   "version": "3.11.11"
  }
 },
 "nbformat": 4,
 "nbformat_minor": 5
}
