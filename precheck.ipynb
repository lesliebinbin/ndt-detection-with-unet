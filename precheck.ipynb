{
 "cells": [
  {
   "cell_type": "code",
   "execution_count": 1,
   "id": "f819a26b",
   "metadata": {},
   "outputs": [],
   "source": [
    "from pydicom import dcmread"
   ]
  },
  {
   "cell_type": "code",
   "execution_count": 2,
   "id": "a135d67c",
   "metadata": {},
   "outputs": [],
   "source": [
    "from pathlib import Path"
   ]
  },
  {
   "cell_type": "code",
   "execution_count": 3,
   "id": "0f47bea9",
   "metadata": {},
   "outputs": [],
   "source": [
    "src_folder = Path('dataset-duplicate')"
   ]
  },
  {
   "cell_type": "code",
   "execution_count": null,
   "id": "3eacd601",
   "metadata": {},
   "outputs": [],
   "source": [
    "result = []\n",
    "for file in src_folder.rglob('**/*.dcm'):\n",
    "    ds = dcmread(file)\n",
    "    arr = ds.pixel_array\n",
    "    width = arr.shape[1]\n",
    "    height = arr.shape[0]\n",
    "    result.append(width // height)"
   ]
  },
  {
   "cell_type": "code",
   "execution_count": 9,
   "id": "5ab1cc88",
   "metadata": {},
   "outputs": [
    {
     "data": {
      "text/plain": [
       "{0, 2, 3, 4, 5, 6, 7}"
      ]
     },
     "execution_count": 9,
     "metadata": {},
     "output_type": "execute_result"
    }
   ],
   "source": [
    "set(result)"
   ]
  },
  {
   "cell_type": "code",
   "execution_count": 10,
   "id": "fbf3b782",
   "metadata": {},
   "outputs": [
    {
     "data": {
      "text/plain": [
       "True"
      ]
     },
     "execution_count": 10,
     "metadata": {},
     "output_type": "execute_result"
    }
   ],
   "source": [
    "src_folder.exists()"
   ]
  },
  {
   "cell_type": "code",
   "execution_count": null,
   "id": "9d902e0e",
   "metadata": {},
   "outputs": [],
   "source": []
  }
 ],
 "metadata": {
  "kernelspec": {
   "display_name": "dh-computer-vision",
   "language": "python",
   "name": "python3"
  },
  "language_info": {
   "codemirror_mode": {
    "name": "ipython",
    "version": 3
   },
   "file_extension": ".py",
   "mimetype": "text/x-python",
   "name": "python",
   "nbconvert_exporter": "python",
   "pygments_lexer": "ipython3",
   "version": "3.11.11"
  }
 },
 "nbformat": 4,
 "nbformat_minor": 5
}
