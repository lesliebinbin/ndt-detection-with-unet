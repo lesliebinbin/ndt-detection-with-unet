{
 "cells": [
  {
   "cell_type": "code",
   "execution_count": 1,
   "id": "f2a01384",
   "metadata": {},
   "outputs": [
    {
     "name": "stderr",
     "output_type": "stream",
     "text": [
      "2025-08-04 10:06:06.088436: I tensorflow/core/util/port.cc:153] oneDNN custom operations are on. You may see slightly different numerical results due to floating-point round-off errors from different computation orders. To turn them off, set the environment variable `TF_ENABLE_ONEDNN_OPTS=0`.\n",
      "2025-08-04 10:06:06.173026: I tensorflow/core/platform/cpu_feature_guard.cc:210] This TensorFlow binary is optimized to use available CPU instructions in performance-critical operations.\n",
      "To enable the following instructions: AVX2 AVX_VNNI FMA, in other operations, rebuild TensorFlow with the appropriate compiler flags.\n"
     ]
    },
    {
     "name": "stdout",
     "output_type": "stream",
     "text": [
      "Found 783 files belonging to 3 classes.\n"
     ]
    }
   ],
   "source": [
    "import os\n",
    "\n",
    "os.environ[\"KERAS_BACKEND\"] = \"torch\"\n",
    "import keras\n",
    "import numpy as np\n",
    "import io\n",
    "import numpy as np\n",
    "import tensorflow as tf\n",
    "import matplotlib.pyplot as plt\n",
    "from sklearn.metrics import confusion_matrix, ConfusionMatrixDisplay\n",
    "from tensorflow import keras\n",
    "\n",
    "epochs = 100\n",
    "\n",
    "\n",
    "import numpy as np\n",
    "from keras.utils import image_dataset_from_directory\n",
    "\n",
    "\n",
    "# Load datasets using Keras utilities\n",
    "batch_size = 32\n",
    "img_size = (512, 512)\n",
    "\n",
    "\n",
    "\n",
    "test_ds = image_dataset_from_directory(\n",
    "    \"official_images/test\",\n",
    "    label_mode=\"categorical\",\n",
    "    image_size=img_size,\n",
    "    batch_size=batch_size,\n",
    ")"
   ]
  },
  {
   "cell_type": "code",
   "execution_count": 2,
   "id": "0e8a48f0",
   "metadata": {},
   "outputs": [],
   "source": [
    "from layers import Distiller"
   ]
  },
  {
   "cell_type": "code",
   "execution_count": 3,
   "id": "6d7257fb",
   "metadata": {},
   "outputs": [
    {
     "data": {
      "text/plain": [
       "['undertain', 'with_helmet', 'without_helmet']"
      ]
     },
     "execution_count": 3,
     "metadata": {},
     "output_type": "execute_result"
    }
   ],
   "source": [
    "test_ds.class_names"
   ]
  },
  {
   "cell_type": "code",
   "execution_count": 4,
   "id": "7ef9ea00",
   "metadata": {},
   "outputs": [],
   "source": [
    "origin_model = keras.models.load_model(\"models/safety_ai.keras\", compile=False)\n",
    "# best_val_acc_model = keras.models.load_model(\"models/safety_ai_best_val_acc.keras\", compile=False)\n",
    "# best_val_loss_model = keras.models.load_model(\"models/safety_ai_best_val_loss.keras\", compile=False)"
   ]
  },
  {
   "cell_type": "code",
   "execution_count": 5,
   "id": "03df715d",
   "metadata": {},
   "outputs": [
    {
     "name": "stdout",
     "output_type": "stream",
     "text": [
      "Original:\n",
      "\u001b[1m25/25\u001b[0m \u001b[32m━━━━━━━━━━━━━━━━━━━━\u001b[0m\u001b[37m\u001b[0m \u001b[1m40s\u001b[0m 2s/step - acc: 0.9706 - loss: 0.1871\n",
      "[0.17882515490055084, 0.9667943716049194]\n"
     ]
    }
   ],
   "source": [
    "print(\"Original:\")\n",
    "origin_model.compile(\n",
    "    loss=keras.losses.CategoricalCrossentropy(), \n",
    "    metrics=[keras.metrics.CategoricalAccuracy(name=\"acc\")],\n",
    ")\n",
    "print(origin_model.evaluate(test_ds, verbose=1))"
   ]
  },
  {
   "cell_type": "code",
   "execution_count": 6,
   "id": "ccbf5b71",
   "metadata": {},
   "outputs": [],
   "source": [
    "# print(\"Best Acc:\")\n",
    "# best_val_acc_model.compile(\n",
    "#     loss=keras.losses.CategoricalCrossentropy(), \n",
    "#     metrics=[keras.metrics.CategoricalAccuracy(name=\"acc\")],\n",
    "# )\n",
    "# print(best_val_acc_model.evaluate(test_ds, verbose=1))"
   ]
  },
  {
   "cell_type": "code",
   "execution_count": 7,
   "id": "b6f8834b",
   "metadata": {},
   "outputs": [],
   "source": [
    "# print(\"Best Loss:\")\n",
    "# best_val_loss_model.compile(\n",
    "#     loss=keras.losses.CategoricalCrossentropy(), \n",
    "#     metrics=[keras.metrics.CategoricalAccuracy(name=\"acc\")],\n",
    "# )\n",
    "# print(best_val_loss_model.evaluate(test_ds, verbose=1))"
   ]
  },
  {
   "cell_type": "code",
   "execution_count": 8,
   "id": "c37beea3",
   "metadata": {},
   "outputs": [],
   "source": [
    "# from pathlib import Path\n",
    "# issues_folder = Path('img_with_issues')"
   ]
  },
  {
   "cell_type": "code",
   "execution_count": 9,
   "id": "d7340590",
   "metadata": {},
   "outputs": [],
   "source": [
    "# from PIL import Image\n",
    "# import numpy as np\n",
    "# imgs = np.array([np.array(Image.open(file)) for file in issues_folder.rglob(\"**/*.jpg\")])"
   ]
  },
  {
   "cell_type": "code",
   "execution_count": 10,
   "id": "ad55bd42",
   "metadata": {},
   "outputs": [],
   "source": [
    "# best_val_acc_model.predict(imgs).argmax(axis=1)"
   ]
  },
  {
   "cell_type": "code",
   "execution_count": null,
   "id": "4cf07830",
   "metadata": {},
   "outputs": [],
   "source": []
  }
 ],
 "metadata": {
  "kernelspec": {
   "display_name": "dh-computer-vision (3.11.11)",
   "language": "python",
   "name": "python3"
  },
  "language_info": {
   "codemirror_mode": {
    "name": "ipython",
    "version": 3
   },
   "file_extension": ".py",
   "mimetype": "text/x-python",
   "name": "python",
   "nbconvert_exporter": "python",
   "pygments_lexer": "ipython3",
   "version": "3.11.11"
  }
 },
 "nbformat": 4,
 "nbformat_minor": 5
}
