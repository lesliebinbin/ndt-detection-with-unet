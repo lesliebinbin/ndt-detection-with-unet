{
 "cells": [
  {
   "cell_type": "code",
   "execution_count": null,
   "id": "29d3e396",
   "metadata": {},
   "outputs": [],
   "source": [
    "from pathlib import Path\n",
    "import shutil\n",
    "src_folder = Path(\"origin_jpg_data\")\n",
    "ratio_folder = Path(\"dataset_by_aspect_ratio\")\n",
    "shutil.rmtree(ratio_folder, ignore_errors=True)\n",
    "general_folder = Path(\"dataset_by_aspect_ratio\") / \"general\""
   ]
  },
  {
   "cell_type": "code",
   "execution_count": null,
   "id": "36b88e56",
   "metadata": {},
   "outputs": [],
   "source": [
    "import json\n",
    "with open(\"labels_config.json\", 'r') as f:\n",
    "    config = json.load(f)"
   ]
  },
  {
   "cell_type": "code",
   "execution_count": null,
   "id": "f3fbbe1e",
   "metadata": {},
   "outputs": [],
   "source": [
    "en_config, zh_config = config['en'], config['zh']"
   ]
  },
  {
   "cell_type": "code",
   "execution_count": null,
   "id": "ae3c0ef6",
   "metadata": {},
   "outputs": [],
   "source": [
    "en_config, zh_config"
   ]
  },
  {
   "cell_type": "code",
   "execution_count": null,
   "id": "f9b37429",
   "metadata": {},
   "outputs": [],
   "source": [
    "labels_map = {}\n",
    "for k in zh_config:\n",
    "    labels_map[zh_config[k]] = en_config[k]"
   ]
  },
  {
   "cell_type": "code",
   "execution_count": null,
   "id": "b774817a",
   "metadata": {},
   "outputs": [],
   "source": [
    "labels_map['合格'] = 'valid'"
   ]
  },
  {
   "cell_type": "code",
   "execution_count": null,
   "id": "dd46893e",
   "metadata": {},
   "outputs": [],
   "source": [
    "labels_map"
   ]
  },
  {
   "cell_type": "code",
   "execution_count": null,
   "id": "e14fff35",
   "metadata": {},
   "outputs": [],
   "source": [
    "from collections import defaultdict\n",
    "general_files = defaultdict(list)\n",
    "for file in src_folder.rglob(\"**/*.jpg\"):\n",
    "    abs_path = str(file.absolute())\n",
    "    labels = []\n",
    "    for k in labels_map:\n",
    "        if k in abs_path:\n",
    "            label = labels_map[k]\n",
    "            labels.append(label)\n",
    "    if len(labels) == 1:\n",
    "        general_files[labels[0]].append(file)\n",
    "    else:\n",
    "        print(file)"
   ]
  },
  {
   "cell_type": "code",
   "execution_count": null,
   "id": "c6404c87",
   "metadata": {},
   "outputs": [],
   "source": [
    "for label, files in general_files.items():\n",
    "    for file in files:\n",
    "        tgt_path = general_folder / label / file.name\n",
    "        tgt_path.parent.mkdir(exist_ok=True, parents=True)\n",
    "        print(tgt_path)\n",
    "        shutil.copyfile(file, tgt_path)"
   ]
  },
  {
   "cell_type": "code",
   "execution_count": null,
   "id": "7510662c",
   "metadata": {},
   "outputs": [],
   "source": [
    "from PIL import Image\n",
    "for file in general_folder.rglob(\"**/*.jpg\"):\n",
    "    img = Image.open(file)\n",
    "    height, width = img.height, img.width\n",
    "    if height > width:\n",
    "        print(file)\n",
    "        img.transpose(Image.Transpose.ROTATE_90).save(file)"
   ]
  },
  {
   "cell_type": "code",
   "execution_count": null,
   "id": "5abd486e",
   "metadata": {},
   "outputs": [],
   "source": [
    "train_folder = ratio_folder / \"train\"\n",
    "valid_folder = ratio_folder / \"valid\""
   ]
  },
  {
   "cell_type": "code",
   "execution_count": null,
   "id": "59358384",
   "metadata": {},
   "outputs": [],
   "source": [
    "from sklearn.model_selection import train_test_split\n",
    "for label_folder in general_folder.iterdir():\n",
    "    ratio_dict = defaultdict(list)\n",
    "    label_name = label_folder.name\n",
    "    for file in label_folder.iterdir():\n",
    "        img = Image.open(file)\n",
    "        height, width = img.height, img.width\n",
    "        proportion = width // height\n",
    "        ratio_dict[proportion].append(file)\n",
    "    for files in ratio_dict.values():\n",
    "        if len(files) > 2:\n",
    "            train_files, test_files = train_test_split(files)\n",
    "        else:\n",
    "            train_files, test_files = files, []\n",
    "        for train_file in train_files:\n",
    "            tgt_train_file = train_folder / label_name / train_file.name\n",
    "            tgt_train_file.parent.mkdir(exist_ok=True, parents=True)\n",
    "            shutil.copyfile(train_file, tgt_train_file)\n",
    "        for valid_file in test_files:\n",
    "            tgt_valid_file = valid_folder / label_name / valid_file.name\n",
    "            tgt_valid_file.parent.mkdir(exist_ok=True, parents=True)\n",
    "            shutil.copyfile(valid_file, tgt_valid_file)\n"
   ]
  },
  {
   "cell_type": "code",
   "execution_count": null,
   "id": "b012d711",
   "metadata": {},
   "outputs": [],
   "source": [
    "train_file_names = [file.name for file in train_folder.rglob(\"**/*.jpg\")]\n",
    "seen = set()\n",
    "for file in train_file_names:\n",
    "    if file not in seen:\n",
    "        seen.add(file)\n",
    "    else:\n",
    "        print(file)"
   ]
  },
  {
   "cell_type": "code",
   "execution_count": null,
   "id": "e527d829",
   "metadata": {},
   "outputs": [],
   "source": [
    "valid_file_names = [file.name for file in valid_folder.rglob(\"**/*.jpg\")]"
   ]
  },
  {
   "cell_type": "code",
   "execution_count": null,
   "id": "6877b33c",
   "metadata": {},
   "outputs": [],
   "source": [
    "train_file_names"
   ]
  },
  {
   "cell_type": "code",
   "execution_count": null,
   "id": "6a321d9c",
   "metadata": {},
   "outputs": [],
   "source": [
    "train_file_names=set(train_file_names)\n",
    "valid_file_names=set(valid_file_names)"
   ]
  },
  {
   "cell_type": "code",
   "execution_count": null,
   "id": "e495cc3e",
   "metadata": {},
   "outputs": [],
   "source": []
  },
  {
   "cell_type": "code",
   "execution_count": 19,
   "id": "f768225a",
   "metadata": {},
   "outputs": [
    {
     "data": {
      "text/plain": [
       "{'4190-041-6001-002-C515-D30G-05.dcm.jpg'}"
      ]
     },
     "execution_count": 19,
     "metadata": {},
     "output_type": "execute_result"
    }
   ],
   "source": [
    "train_file_names & valid_file_names"
   ]
  },
  {
   "cell_type": "code",
   "execution_count": null,
   "id": "88b9cb7b",
   "metadata": {},
   "outputs": [],
   "source": [
    "train_file_names"
   ]
  },
  {
   "cell_type": "code",
   "execution_count": null,
   "id": "88efe037",
   "metadata": {},
   "outputs": [],
   "source": []
  }
 ],
 "metadata": {
  "kernelspec": {
   "display_name": "dh-computer-vision (3.11.11)",
   "language": "python",
   "name": "python3"
  },
  "language_info": {
   "codemirror_mode": {
    "name": "ipython",
    "version": 3
   },
   "file_extension": ".py",
   "mimetype": "text/x-python",
   "name": "python",
   "nbconvert_exporter": "python",
   "pygments_lexer": "ipython3",
   "version": "3.11.11"
  }
 },
 "nbformat": 4,
 "nbformat_minor": 5
}
